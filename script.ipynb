{
 "cells": [
  {
   "cell_type": "markdown",
   "metadata": {},
   "source": [
    "## Imports"
   ]
  },
  {
   "cell_type": "code",
   "execution_count": 45,
   "metadata": {},
   "outputs": [],
   "source": [
    "import re\n",
    "import numpy as np\n"
   ]
  },
  {
   "cell_type": "markdown",
   "metadata": {},
   "source": [
    "## Read text"
   ]
  },
  {
   "cell_type": "code",
   "execution_count": 46,
   "metadata": {},
   "outputs": [],
   "source": [
    "def read_text(path):\n",
    "    lines = ''\n",
    "\n",
    "    with open(path, 'r', encoding='utf-8') as file:\n",
    "        lines = file.read()\n",
    "\n",
    "    return lines\n",
    "\n",
    "def write_text(path, lines):\n",
    "    with open(path, 'w', encoding='utf-8') as file:\n",
    "        file.write(lines)\n",
    "\n",
    "\n",
    "path = '.\\\\texts\\\\roksolana.txt'\n",
    "text = read_text(path).lower()\n",
    "\n",
    "formatted_text = re.sub(u'[^а-яіґєї]|э|ы|ъ', '', text)\n",
    "formatted_text = re.sub(u'ґ', 'г', formatted_text)\n",
    "\n",
    "text_len = len(formatted_text)\n",
    "\n",
    "write_text('.\\\\texts\\\\formatted_text.txt', formatted_text)"
   ]
  },
  {
   "cell_type": "markdown",
   "metadata": {},
   "source": [
    "## Gathering monograms and bigrams statistics"
   ]
  },
  {
   "cell_type": "code",
   "execution_count": 47,
   "metadata": {},
   "outputs": [],
   "source": [
    "alphabet_str = 'абвгдеєжзиіїйклмнопрстуфхцчшщьюя'\n",
    "\n",
    "alphabet_statistics = {}\n",
    "alphabet_frequencies = {}\n",
    "\n",
    "for letter in alphabet_str:\n",
    "    alphabet_statistics[letter] = 0\n",
    "\n",
    "for letter in formatted_text:\n",
    "    alphabet_statistics[letter] += 1\n",
    "\n",
    "for letter in alphabet_statistics.keys():\n",
    "    alphabet_frequencies[letter] = alphabet_statistics[letter] / text_len\n"
   ]
  },
  {
   "cell_type": "code",
   "execution_count": 48,
   "metadata": {},
   "outputs": [],
   "source": [
    "bigrams_statistics = {}\n",
    "bigrams_frequencies = {}\n",
    "\n",
    "for first in alphabet_str:\n",
    "    for second in alphabet_str:\n",
    "        bigrams_statistics[first + second] = 0\n",
    "        bigrams_frequencies[first + second] = 0\n",
    "\n",
    "for index in range(text_len - 1):\n",
    "    bigrams_statistics[formatted_text[index] + formatted_text[index + 1]] += 1\n",
    "\n",
    "for bigram in bigrams_frequencies.keys():\n",
    "    bigrams_frequencies[bigram] = bigrams_statistics[bigram] / (text_len - 1)\n"
   ]
  },
  {
   "cell_type": "markdown",
   "metadata": {},
   "source": [
    "## Entropy and Coincidence Index"
   ]
  },
  {
   "cell_type": "code",
   "execution_count": 55,
   "metadata": {},
   "outputs": [],
   "source": [
    "entropy = -1 * sum([alphabet_frequencies[letter] * np.log2(alphabet_frequencies[letter]) for letter in alphabet_str])\n",
    "\n",
    "coincidence_index = sum([\n",
    "\talphabet_statistics[letter] * (alphabet_statistics[letter] - 1)\n",
    "for letter in alphabet_str]) / text_len / (text_len - 1)\n"
   ]
  },
  {
   "cell_type": "markdown",
   "metadata": {},
   "source": [
    "## Generating texts"
   ]
  },
  {
   "cell_type": "code",
   "execution_count": 57,
   "metadata": {},
   "outputs": [],
   "source": [
    "texts_count = 10000\n",
    "\n",
    "def generate_texts(text_size, texts_count):\n",
    "\ttext_array = []\n",
    "\n",
    "\tindex = 0\n",
    "\tfor n in range(texts_count):\n",
    "\t\ttext_array.append(formatted_text[index:(index + text_size)])\n",
    "\t\tindex += 100\n",
    "\n",
    "\treturn text_array\n",
    "\n",
    "texts_10 = generate_texts(10, 10000)\n",
    "texts_100 = generate_texts(100, 10000)\n",
    "texts_1000 = generate_texts(1000, 10000)\n",
    "texts_10000 = generate_texts(10000, 1000)\n"
   ]
  },
  {
   "cell_type": "markdown",
   "metadata": {},
   "source": [
    "## Vigenere cipher"
   ]
  },
  {
   "cell_type": "code",
   "execution_count": 61,
   "metadata": {},
   "outputs": [
    {
     "data": {
      "text/plain": [
       "'гдебив'"
      ]
     },
     "execution_count": 61,
     "metadata": {},
     "output_type": "execute_result"
    }
   ],
   "source": [
    "def vigenere_cipher(text, key):\n",
    "    alphabet = list(alphabet_statistics.keys())\n",
    "    length = len(alphabet)\n",
    "    ciphered_text = ''\n",
    "    for index in range(len(text)):\n",
    "        ciphered_text += alphabet[(alphabet.index(text[index]) + key) % length]\n",
    "\n",
    "    return ciphered_text\n"
   ]
  },
  {
   "cell_type": "markdown",
   "metadata": {},
   "source": [
    "## Affine cipher"
   ]
  },
  {
   "cell_type": "code",
   "execution_count": null,
   "metadata": {},
   "outputs": [],
   "source": []
  }
 ],
 "metadata": {
  "kernelspec": {
   "display_name": "Python 3.10.7 64-bit",
   "language": "python",
   "name": "python3"
  },
  "language_info": {
   "codemirror_mode": {
    "name": "ipython",
    "version": 3
   },
   "file_extension": ".py",
   "mimetype": "text/x-python",
   "name": "python",
   "nbconvert_exporter": "python",
   "pygments_lexer": "ipython3",
   "version": "3.10.7"
  },
  "orig_nbformat": 4,
  "vscode": {
   "interpreter": {
    "hash": "369f2c481f4da34e4445cda3fffd2e751bd1c4d706f27375911949ba6bb62e1c"
   }
  }
 },
 "nbformat": 4,
 "nbformat_minor": 2
}
