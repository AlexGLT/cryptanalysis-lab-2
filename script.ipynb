{
 "cells": [
  {
   "cell_type": "markdown",
   "metadata": {},
   "source": [
    "## Imports"
   ]
  },
  {
   "cell_type": "code",
   "execution_count": 2,
   "metadata": {},
   "outputs": [],
   "source": [
    "import re\n"
   ]
  },
  {
   "cell_type": "markdown",
   "metadata": {},
   "source": [
    "## Read text"
   ]
  },
  {
   "cell_type": "code",
   "execution_count": 10,
   "metadata": {},
   "outputs": [
    {
     "name": "stdout",
     "output_type": "stream",
     "text": [
      "1188589\n"
     ]
    }
   ],
   "source": [
    "def read_text(path):\n",
    "    lines = ''\n",
    "\n",
    "    with open(path, 'r', encoding='utf-8') as file:\n",
    "        lines = file.read()\n",
    "\n",
    "    return lines\n",
    "\n",
    "def write_text(path, lines):\n",
    "    with open(path, 'w', encoding='utf-8') as file:\n",
    "        file.write(lines)\n",
    "\n",
    "    return lines\n",
    "\n",
    "\n",
    "\n",
    "path = '.\\\\texts\\\\roksolana.txt'\n",
    "text = read_text(path).lower()\n",
    "\n",
    "formatted_text = re.sub(u'[^а-яіґєї]|э|ы|ъ', '', text)\n",
    "formatted_text = re.sub(u'ґ', 'г', formatted_text)\n",
    "\n",
    "text_len = len(formatted_text)\n",
    "\n",
    "write_text('.\\\\texts\\\\formatted_text.txt', formatted_text)"
   ]
  },
  {
   "cell_type": "markdown",
   "metadata": {},
   "source": [
    "## Gathering monograms and bigrams statistics"
   ]
  },
  {
   "cell_type": "code",
   "execution_count": null,
   "metadata": {},
   "outputs": [],
   "source": [
    "alphabet_str = 'абвгдеєжзиіїйклмнопрстуфхцчшщьюя'\n",
    "\n",
    "alphabet_statistics = {}\n",
    "alphabet_frequencies = {}\n",
    "\n",
    "for letter in alphabet_str:\n",
    "    alphabet_statistics[letter] = 0\n",
    "\n",
    "for letter in formatted_text:\n",
    "    alphabet_statistics[letter] += 1\n",
    "\n",
    "for letter in alphabet_statistics.keys():\n",
    "    alphabet_statistics[letter] = alphabet_statistics[letter] / alphabet_frequencies\n"
   ]
  },
  {
   "cell_type": "code",
   "execution_count": null,
   "metadata": {},
   "outputs": [],
   "source": [
    "bigrams_statistics = {}\n",
    "bigrams_frequencies = {}\n",
    "\n",
    "for first in alphabet_str:\n",
    "    for second in alphabet_str:\n",
    "        bigrams_statistics[first + second] = 0\n",
    "        bigrams_frequencies[first + second] = 0\n",
    "\n",
    "for index in range(text_len - 1):\n",
    "    bigrams_statistics[formatted_text[index] + formatted_text[index + 1]] += 1\n",
    "\n",
    "for bigram in bigrams_frequencies.keys():\n",
    "    bigrams_frequencies[bigram] = bigrams_statistics[bigram] / (text_len - 1)\n",
    "\n",
    "bigrams_statistics"
   ]
  },
  {
   "cell_type": "code",
   "execution_count": null,
   "metadata": {},
   "outputs": [],
   "source": []
  }
 ],
 "metadata": {
  "kernelspec": {
   "display_name": "Python 3.10.7 64-bit",
   "language": "python",
   "name": "python3"
  },
  "language_info": {
   "codemirror_mode": {
    "name": "ipython",
    "version": 3
   },
   "file_extension": ".py",
   "mimetype": "text/x-python",
   "name": "python",
   "nbconvert_exporter": "python",
   "pygments_lexer": "ipython3",
   "version": "3.10.7"
  },
  "orig_nbformat": 4,
  "vscode": {
   "interpreter": {
    "hash": "369f2c481f4da34e4445cda3fffd2e751bd1c4d706f27375911949ba6bb62e1c"
   }
  }
 },
 "nbformat": 4,
 "nbformat_minor": 2
}
