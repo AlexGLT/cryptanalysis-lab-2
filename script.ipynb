{
 "cells": [
  {
   "cell_type": "markdown",
   "metadata": {},
   "source": [
    "# Imports"
   ]
  },
  {
   "cell_type": "code",
   "execution_count": 132,
   "metadata": {},
   "outputs": [],
   "source": [
    "import re\n",
    "import numpy as np\n",
    "import math\n",
    "import zlib\n"
   ]
  },
  {
   "cell_type": "markdown",
   "metadata": {},
   "source": [
    "# Read text"
   ]
  },
  {
   "cell_type": "code",
   "execution_count": 133,
   "metadata": {},
   "outputs": [],
   "source": [
    "def read_text(path):\n",
    "    lines = ''\n",
    "\n",
    "    with open(path, 'r', encoding='utf-8') as file:\n",
    "        lines = file.read()\n",
    "\n",
    "    return lines\n",
    "\n",
    "def write_text(path, lines):\n",
    "    with open(path, 'w', encoding='utf-8') as file:\n",
    "        file.write(lines)\n",
    "\n",
    "\n",
    "path = '.\\\\texts\\\\roksolana.txt'\n",
    "text = read_text(path).lower()\n",
    "\n",
    "formatted_text = re.sub(u'[^а-яіґєї]|э|ы|ъ', '', text)\n",
    "formatted_text = re.sub(u'ґ', 'г', formatted_text)\n",
    "\n",
    "text_len = len(formatted_text)\n",
    "\n",
    "write_text('.\\\\texts\\\\formatted_text.txt', formatted_text)"
   ]
  },
  {
   "cell_type": "markdown",
   "metadata": {},
   "source": [
    "# Gathering monograms and bigrams statistics"
   ]
  },
  {
   "cell_type": "code",
   "execution_count": 134,
   "metadata": {},
   "outputs": [],
   "source": [
    "alphabet_str = 'абвгдеєжзиіїйклмнопрстуфхцчшщьюя'\n",
    "alphabet_length = len(alphabet_str)\n",
    "\n",
    "alphabet_statistics = {}\n",
    "alphabet_frequencies = {}\n",
    "\n",
    "for letter in alphabet_str:\n",
    "    alphabet_statistics[letter] = 0\n",
    "\n",
    "for letter in formatted_text:\n",
    "    alphabet_statistics[letter] += 1\n",
    "\n",
    "for letter in alphabet_statistics.keys():\n",
    "    alphabet_frequencies[letter] = alphabet_statistics[letter] / text_len\n",
    "\n",
    "monogram_to_number = {}\n",
    "for i in range(alphabet_length):\n",
    "\tmonogram_to_number[alphabet_str[i]] = i\n"
   ]
  },
  {
   "cell_type": "code",
   "execution_count": 135,
   "metadata": {},
   "outputs": [],
   "source": [
    "all_bigrams = []\n",
    "\n",
    "bigrams_statistics = {}\n",
    "bigrams_frequencies = {}\n",
    "\n",
    "for first in alphabet_str:\n",
    "    for second in alphabet_str:\n",
    "        bigram = first + second\n",
    "\n",
    "        all_bigrams.append(bigram)\n",
    "        bigrams_statistics[bigram] = 0\n",
    "        bigrams_frequencies[bigram] = 0\n",
    "\n",
    "for index in range(text_len - 1):\n",
    "    bigrams_statistics[formatted_text[index] + formatted_text[index + 1]] += 1\n",
    "\n",
    "for bigram in bigrams_frequencies.keys():\n",
    "    bigrams_frequencies[bigram] = bigrams_statistics[bigram] / (text_len - 1)\n",
    "\n",
    "all_bigrams_length = len(all_bigrams)\n",
    "\n",
    "bigram_to_number = {}\n",
    "for i in range(all_bigrams_length):\n",
    "\tbigram_to_number[all_bigrams[i]] = i\n"
   ]
  },
  {
   "cell_type": "markdown",
   "metadata": {},
   "source": [
    "## Entropy and Coincidence Index"
   ]
  },
  {
   "cell_type": "code",
   "execution_count": 136,
   "metadata": {},
   "outputs": [],
   "source": [
    "monogram_entropy = -1 * sum([alphabet_frequencies[letter] * np.log2(alphabet_frequencies[letter]) for letter in alphabet_str])\n",
    "bigram_entropy = -0.5 * sum([bigrams_frequencies[bigram] * np.log2(bigrams_frequencies[bigram]) if bigrams_frequencies[bigram] != 0 else 0 for bigram in all_bigrams])\n",
    "\n",
    "coincidence_index = sum([\n",
    "\talphabet_statistics[letter] * (alphabet_statistics[letter] - 1)\n",
    "for letter in alphabet_str]) / text_len / (text_len - 1)\n"
   ]
  },
  {
   "cell_type": "markdown",
   "metadata": {},
   "source": [
    "## Generating texts"
   ]
  },
  {
   "cell_type": "code",
   "execution_count": 137,
   "metadata": {},
   "outputs": [],
   "source": [
    "texts_count = 10000\n",
    "\n",
    "def generate_texts(text_size, texts_count, step):\n",
    "\ttext_array = []\n",
    "\n",
    "\tindex = 0\n",
    "\tfor n in range(texts_count):\n",
    "\t\ttext_array.append(formatted_text[index:(index + text_size)])\n",
    "\t\tindex += step\n",
    "\n",
    "\treturn text_array\n",
    "\n",
    "texts_10 = generate_texts(10, 10000, 10)\n",
    "texts_100 = generate_texts(100, 10000, 100)\n",
    "texts_1000 = generate_texts(1000, 10000, 100)\n",
    "texts_10000 = generate_texts(10000, 1000, 1000)\n"
   ]
  },
  {
   "cell_type": "markdown",
   "metadata": {},
   "source": [
    "# Distortion algorithms"
   ]
  },
  {
   "cell_type": "markdown",
   "metadata": {},
   "source": [
    "## Vigenere cipher"
   ]
  },
  {
   "cell_type": "code",
   "execution_count": 138,
   "metadata": {},
   "outputs": [],
   "source": [
    "def mono_vigenere_cipher(text, key):\n",
    "    key_length = len(key)\n",
    "\n",
    "    ciphered_text = ''\n",
    "    for index in range(len(text)):\n",
    "        key_index = index % key_length\n",
    "        ciphered_text += alphabet_str[(monogram_to_number[text[index]] + key[key_index]) % alphabet_length]\n",
    "\n",
    "    return ciphered_text\n",
    "\n",
    "def bi_vigenere_cipher(text, key):\n",
    "    key_length = len(key)\n",
    "\n",
    "    ciphered_text = ''\n",
    "\n",
    "    for index in range(0, len(text), 2):\n",
    "        key_index = (index // 2) % key_length\n",
    "        ciphered_text += all_bigrams[(bigram_to_number[text[index:index+2]] + key[key_index]) % all_bigrams_length]\n",
    "\n",
    "    return ciphered_text\n"
   ]
  },
  {
   "cell_type": "markdown",
   "metadata": {},
   "source": [
    "## Affine cipher"
   ]
  },
  {
   "cell_type": "code",
   "execution_count": 139,
   "metadata": {},
   "outputs": [],
   "source": [
    "def mono_affine_cipher(text, key):\n",
    "\ta, b = key\n",
    "\tciphered_text = ''\n",
    "\n",
    "\tfor letter in text:\n",
    "\t\tciphered_letter_index = (a * monogram_to_number[letter] + b) % alphabet_length\n",
    "\n",
    "\t\tciphered_text += alphabet_str[ciphered_letter_index]\n",
    "\n",
    "\treturn ciphered_text\n",
    "\n",
    "\n",
    "def bi_affine_cipher(text, key):\n",
    "\ta, b = key\n",
    "\tciphered_text = ''\n",
    "\n",
    "\tfor bigram in re.findall(r'..', text):\n",
    "\t\tciphered_letter_index = (a * bigram_to_number[bigram] + b) % (all_bigrams_length)\n",
    "\n",
    "\t\tciphered_text += all_bigrams[ciphered_letter_index]\n",
    "\n",
    "\treturn ciphered_text\n"
   ]
  },
  {
   "cell_type": "markdown",
   "metadata": {},
   "source": [
    "## Uniform distortion"
   ]
  },
  {
   "cell_type": "code",
   "execution_count": 140,
   "metadata": {},
   "outputs": [],
   "source": [
    "def mono_uniform_distortion(size):\n",
    "    return ''.join([alphabet_str[elem] for elem in np.random.randint(low=0, high=alphabet_length, size=size)])\n",
    "\n",
    "def bi_uniform_distortion(size):\n",
    "    return ''.join([all_bigrams[elem] for elem in np.random.randint(low=0, high=all_bigrams_length, size=size)])\n"
   ]
  },
  {
   "cell_type": "markdown",
   "metadata": {},
   "source": [
    "## Recurrent sequence"
   ]
  },
  {
   "cell_type": "code",
   "execution_count": 141,
   "metadata": {},
   "outputs": [],
   "source": [
    "def generate_random_lgram(high = alphabet_length, size = 1):\n",
    "\treturn np.random.randint(low = 0, high = high, size = size)\n",
    "\n",
    "def mono_recurrent_sequence(size):\n",
    "\ts_0, s_1 = generate_random_lgram(alphabet_length, 2)\n",
    "\trecurrent_sequence = alphabet_str[s_0] + alphabet_str[s_1]\n",
    "\t\n",
    "\tfor i in range(2, size):\n",
    "\t\tprev_letter_index = monogram_to_number[recurrent_sequence[i - 1]]\n",
    "\t\tprev_prev_letter_index = monogram_to_number[recurrent_sequence[i - 2]]\n",
    "\t\tnext_letter_index = (prev_letter_index + prev_prev_letter_index) % alphabet_length\n",
    "\n",
    "\t\trecurrent_sequence += alphabet_str[next_letter_index]\n",
    "\n",
    "\treturn recurrent_sequence\n",
    "\n",
    "def bi_recurrent_sequence(size):\n",
    "\ts_0, s_1 = generate_random_lgram(all_bigrams_length, 2)\n",
    "\trecurrent_sequence = all_bigrams[s_0] + all_bigrams[s_1]\n",
    "\t\n",
    "\tfor i in range(2, size // 2):\n",
    "\t\tprev_letter_index = bigram_to_number[recurrent_sequence[-2:]]\n",
    "\t\tprev_prev_letter_index = bigram_to_number[recurrent_sequence[-4:-2]]\n",
    "\n",
    "\t\tnext_bigram_index = (prev_letter_index + prev_prev_letter_index) % (all_bigrams_length)\n",
    "\n",
    "\t\trecurrent_sequence += all_bigrams[next_bigram_index]\n",
    "\n",
    "\treturn recurrent_sequence\n"
   ]
  },
  {
   "cell_type": "markdown",
   "metadata": {},
   "source": [
    "# Criterias"
   ]
  },
  {
   "cell_type": "code",
   "execution_count": 142,
   "metadata": {},
   "outputs": [],
   "source": [
    "def get_prohibited_grams(grams, quartile):\n",
    "\tentries = grams.items()\n",
    "\treturn dict(sorted(entries, key = lambda tuple: tuple[1], reverse=True)[math.floor(quartile * len(entries)):])\n",
    "\n",
    "prohibited_monograms = get_prohibited_grams(alphabet_statistics, 0.9)\n",
    "prohibited_monograms_keys = list(prohibited_monograms.keys())\n",
    "\n",
    "prohibited_bigrams = get_prohibited_grams(bigrams_statistics, 0.75)\n",
    "prohibited_bigrams_keys = list(prohibited_bigrams.keys())\n"
   ]
  },
  {
   "cell_type": "markdown",
   "metadata": {},
   "source": [
    "### Criteria 1.1 (criteria 1.0 in parameters)"
   ]
  },
  {
   "cell_type": "code",
   "execution_count": 143,
   "metadata": {},
   "outputs": [],
   "source": [
    "def mono_criteria_1_1(text, k_prohibited = 1):\n",
    "    a_ap = set(text)\n",
    "\n",
    "    k_counter = 0\n",
    "\n",
    "    for elem in a_ap:\n",
    "        if elem in prohibited_monograms_keys:\n",
    "            k_counter += 1\n",
    "\n",
    "    if (k_counter >= k_prohibited):\n",
    "        return 0\n",
    "    else:\n",
    "        return 1 \n",
    "\n",
    "def bi_criteria_1_1(text, k_prohibited = 1):\n",
    "    bigrams_text = [text[i:i+2] for i in range(len(text) - 1)]\n",
    "    a_ap = set(bigrams_text)\n",
    "\n",
    "    k_counter = 0\n",
    "\n",
    "    for elem in a_ap:\n",
    "        if elem in prohibited_bigrams_keys:\n",
    "            k_counter += 1\n",
    "\n",
    "    if (k_counter >= k_prohibited):\n",
    "        return 0\n",
    "    else:\n",
    "        return 1\n"
   ]
  },
  {
   "cell_type": "markdown",
   "metadata": {},
   "source": [
    "### Criteria 1.2"
   ]
  },
  {
   "cell_type": "code",
   "execution_count": 169,
   "metadata": {},
   "outputs": [],
   "source": [
    "def mono_prohibited_frequencies_1(text, limit):\n",
    "\ttext_length = len(text)\n",
    "\tprohibited_frequencies = {}\n",
    "\n",
    "\tfor monogram in prohibited_monograms_keys:\n",
    "\t\tprohibited_frequencies[monogram] = 0\n",
    "\n",
    "\tfor letter in text:\n",
    "\t\tif letter in prohibited_monograms_keys:\n",
    "\t\t\tprohibited_frequencies[letter] += 1\n",
    "\n",
    "\tfor monogram in prohibited_monograms_keys:\n",
    "\t\tprohibited_frequencies[monogram] /= text_length\n",
    "\n",
    "\t\tif (prohibited_frequencies[monogram] >= limit):\n",
    "\t\t\treturn 0\n",
    "\t\t\n",
    "\treturn 1\n",
    "\n",
    "def bi_prohibited_frequencies_1(text, limit):\n",
    "\ttext_length = len(text)\n",
    "\tprohibited_frequencies = {}\n",
    "\n",
    "\tfor i in range(text_length - 1):\n",
    "\t\tbigram = text[i:i + 2]\n",
    "\n",
    "\t\tif bigram in prohibited_bigrams_keys:\n",
    "\t\t\ttry:\n",
    "\t\t\t\tprohibited_frequencies[bigram] += 1\n",
    "\t\t\texcept KeyError:\n",
    "\t\t\t\tprohibited_frequencies[bigram] = 1\n",
    "\n",
    "\tfor bigram in prohibited_frequencies.keys():\n",
    "\t\tprohibited_frequencies[bigram] /= (text_length - 1)\n",
    "\n",
    "\t\tif (prohibited_frequencies[bigram] >= limit):\n",
    "\t\t\treturn 0\n",
    "\t\t\n",
    "\treturn 1\n"
   ]
  },
  {
   "cell_type": "markdown",
   "metadata": {},
   "source": [
    "### Criteria 1.3"
   ]
  },
  {
   "cell_type": "code",
   "execution_count": 145,
   "metadata": {},
   "outputs": [],
   "source": [
    "def mono_prohibited_frequencies_2(text, limit):\n",
    "\ttext_length = len(text)\n",
    "\tprohibited_frequencies = {}\n",
    "\n",
    "\tfor monogram in prohibited_monograms_keys:\n",
    "\t\tprohibited_frequencies[monogram] = 0\n",
    "\n",
    "\tfor letter in text:\n",
    "\t\tif letter in prohibited_monograms_keys:\n",
    "\t\t\tprohibited_frequencies[letter] += 1\n",
    "\n",
    "\tfreq_sum = sum(prohibited_frequencies.values()) / text_length\n",
    "\n",
    "\tif freq_sum > limit:\n",
    "\t\treturn 0\n",
    "\t\t\n",
    "\treturn 1\n",
    "\n",
    "def bi_prohibited_frequencies_2(text, limit):\n",
    "\ttext_length = len(text)\n",
    "\tprohibited_frequencies = {}\n",
    "\n",
    "\tfor i in range(text_length - 1):\n",
    "\t\tbigram = text[i:i + 2]\n",
    "\n",
    "\t\tif bigram in prohibited_bigrams_keys:\n",
    "\t\t\ttry:\n",
    "\t\t\t\tprohibited_frequencies[bigram] += 1\n",
    "\t\t\texcept KeyError:\n",
    "\t\t\t\tprohibited_frequencies[bigram] = 1\n",
    "\n",
    "\tfreq_sum = sum(prohibited_frequencies.values()) / (text_length - 1)\n",
    "\n",
    "\tif freq_sum > limit:\n",
    "\t\treturn 0\n",
    "\t\t\n",
    "\treturn 1\n",
    "\n",
    "kek122121 = 5\n",
    "\n",
    "try:\n",
    "    kek122121 += 1\n",
    "except NameError:\n",
    "    kek122121 = 2\n"
   ]
  },
  {
   "cell_type": "markdown",
   "metadata": {},
   "source": [
    "### Criteria 3.0"
   ]
  },
  {
   "cell_type": "code",
   "execution_count": 146,
   "metadata": {},
   "outputs": [],
   "source": [
    "def get_monogram_distribution(text):\n",
    "    text_length = len(text)\n",
    "    stats = {}\n",
    "\n",
    "    for elem in text:\n",
    "        try:\n",
    "            stats[elem] += 1\n",
    "        except KeyError:\n",
    "            stats[elem] = 1\n",
    "\n",
    "    for key in stats.keys():\n",
    "        stats[key] /= text_length\n",
    "\n",
    "    return stats\n",
    "\n",
    "def get_bigram_distribution(text):\n",
    "    text_length = len(text)\n",
    "    stats = {}\n",
    "            \n",
    "    for i in range(len(text) - 1):\n",
    "        bigram = text[i:i+2]\n",
    "\n",
    "        try:\n",
    "            stats[bigram] += 1\n",
    "        except KeyError:\n",
    "            stats[bigram] = 1\n",
    "\n",
    "    for key in stats.keys():\n",
    "        stats[key] /= (text_length - 1)\n",
    "\n",
    "    return stats\n",
    "\n",
    "def get_specific_entropy(frequencies, l):\n",
    "    specific_entropy = 0\n",
    "\n",
    "    for frequency in frequencies.keys():\n",
    "        specific_entropy -= frequencies[frequency] * np.log2(frequencies[frequency]) / l            \n",
    "\n",
    "    return specific_entropy\n",
    "\n",
    "def mono_criteria_3_0(text, limit):\n",
    "    text_specific_entropy = get_specific_entropy(get_monogram_distribution(text), 1)\n",
    "\n",
    "    result = abs(monogram_entropy - text_specific_entropy)\n",
    "\n",
    "    if result > limit:\n",
    "        return 0\n",
    "    else:\n",
    "        return 1\n",
    "\n",
    "def bi_criteria_3_0(text, limit):\n",
    "    text_specific_entropy = get_specific_entropy(get_bigram_distribution(text), 2)\n",
    "\n",
    "    result = abs(bigram_entropy - text_specific_entropy)\n",
    "\n",
    "    if result > limit:\n",
    "        return 0\n",
    "    else:\n",
    "        return 1\n"
   ]
  },
  {
   "cell_type": "markdown",
   "metadata": {},
   "source": [
    "### Criteria 5.1"
   ]
  },
  {
   "cell_type": "code",
   "execution_count": 147,
   "metadata": {},
   "outputs": [],
   "source": [
    "def get_most_common_grams(grams, count):\n",
    "\tentries = grams.items()\n",
    "\tsorted_entries = sorted(entries, key = lambda tuple: tuple[1], reverse=True)[:count]\n",
    "\t\n",
    "\treturn list(map(lambda item: item[0], sorted_entries))\n"
   ]
  },
  {
   "cell_type": "code",
   "execution_count": 148,
   "metadata": {},
   "outputs": [],
   "source": [
    "most_common_monograms = get_most_common_grams(alphabet_statistics, 10)\n",
    "most_common_bigrams_50 = get_most_common_grams(bigrams_statistics, 50)\n",
    "most_common_bigrams_100 = get_most_common_grams(bigrams_statistics, 100)\n",
    "most_common_bigrams_200 = get_most_common_grams(bigrams_statistics, 200)\n",
    "\n",
    "def mono_empty_boxes(text, limit, most_common_monograms):\n",
    "\tmost_common_monograms_in_text = {}\n",
    "\n",
    "\tfor monogram in most_common_monograms:\n",
    "\t\tmost_common_monograms_in_text[monogram] = 0\n",
    "\n",
    "\tfor letter in text:\n",
    "\t\tif letter in most_common_monograms:\n",
    "\t\t\tmost_common_monograms_in_text[letter] += 1\n",
    "\n",
    "\tif len(list(filter(lambda monogram: True if monogram[1] == 0 else False, most_common_monograms_in_text.items()))) > limit:\n",
    "\t\treturn 0\n",
    "\n",
    "\treturn 1\n",
    "\n",
    "def bi_empty_boxes(text, limit, most_common_bigrams):\n",
    "\tmost_common_bigrams_in_text = {}\n",
    "\n",
    "\tfor bigram in most_common_bigrams:\n",
    "\t\tmost_common_bigrams_in_text[bigram] = 0\n",
    "\n",
    "\tfor i in range(len(text) - 1):\n",
    "\t\tbigram = text[i:i + 2]\n",
    "\n",
    "\t\tif bigram in most_common_bigrams:\n",
    "\t\t\tmost_common_bigrams_in_text[bigram] += 1\n",
    "\n",
    "\tif len(list(filter(lambda bigram: True if bigram[1] == 0 else False, most_common_bigrams_in_text.items()))) > limit:\n",
    "\t\treturn 0\n",
    "\n",
    "\treturn 1\n"
   ]
  },
  {
   "cell_type": "markdown",
   "metadata": {},
   "source": [
    "### Structure criteria"
   ]
  },
  {
   "cell_type": "code",
   "execution_count": 149,
   "metadata": {},
   "outputs": [],
   "source": [
    "def structure_criteria(text, limit):\n",
    "\ttext_len = len(text)\n",
    "\trandom_text = mono_uniform_distortion(text_len)\n",
    "\n",
    "\trandom_coef = text_len / len(zlib.compress(random_text.encode('utf-8')))\n",
    "\ttext_coef = text_len / len(zlib.compress(text.encode('utf-8')))\n",
    "\n",
    "\tif abs(random_coef - text_coef) < limit:\n",
    "\t\treturn 0\n",
    "\n",
    "\treturn 1\n"
   ]
  },
  {
   "cell_type": "markdown",
   "metadata": {},
   "source": [
    "# Distortion texts"
   ]
  },
  {
   "cell_type": "markdown",
   "metadata": {},
   "source": [
    "## Monograms"
   ]
  },
  {
   "cell_type": "code",
   "execution_count": 150,
   "metadata": {},
   "outputs": [],
   "source": [
    "viginere_key_1 = generate_random_lgram(alphabet_length)\n",
    "viginere_key_5 = generate_random_lgram(alphabet_length, 5)\n",
    "viginere_key_10 = generate_random_lgram(alphabet_length, 10)\n",
    "\n",
    "affine_key = generate_random_lgram(alphabet_length, 2)\n",
    "\n",
    "while affine_key[0] % 2 != 1:\n",
    "\taffine_key = generate_random_lgram(alphabet_length, 2)\n",
    "\n",
    "text_10_mono = {\n",
    "\t'viginere_1': [mono_vigenere_cipher(text, viginere_key_1) for text in texts_10],\n",
    "\t'viginere_5': [mono_vigenere_cipher(text, viginere_key_5) for text in texts_10],\n",
    "\t'viginere_10': [mono_vigenere_cipher(text, viginere_key_10) for text in texts_10],\n",
    "\t'affine': [mono_affine_cipher(text, affine_key) for text in texts_10],\n",
    "\t'random': [mono_uniform_distortion(10) for i in range(len(texts_10))],\n",
    "\t'reccurent': [mono_recurrent_sequence(10) for i in range(len(texts_10))]\n",
    "}\n",
    "\n",
    "text_100_mono = {\n",
    "\t'viginere_1': [mono_vigenere_cipher(text, viginere_key_1) for text in texts_100],\n",
    "\t'viginere_5': [mono_vigenere_cipher(text, viginere_key_5) for text in texts_100],\n",
    "\t'viginere_10': [mono_vigenere_cipher(text, viginere_key_10) for text in texts_100],\n",
    "\t'affine': [mono_affine_cipher(text, affine_key) for text in texts_100],\n",
    "\t'random': [mono_uniform_distortion(100) for i in range(len(texts_100))],\n",
    "\t'reccurent': [mono_recurrent_sequence(100) for i in range(len(texts_100))]\n",
    "}\n",
    "\n",
    "text_1000_mono = {\n",
    "\t'viginere_1': [mono_vigenere_cipher(text, viginere_key_1) for text in texts_1000],\n",
    "\t'viginere_5': [mono_vigenere_cipher(text, viginere_key_5) for text in texts_10000],\n",
    "\t'viginere_10': [mono_vigenere_cipher(text, viginere_key_10) for text in texts_1000],\n",
    "\t'affine': [mono_affine_cipher(text, affine_key) for text in texts_1000],\n",
    "\t'random': [mono_uniform_distortion(1000) for i in range(len(texts_1000))],\n",
    "\t'reccurent': [mono_recurrent_sequence(1000) for i in range(len(texts_1000))]\n",
    "}\n",
    "\n",
    "text_10000_mono = {\n",
    "\t'viginere_1': [mono_vigenere_cipher(text, viginere_key_1) for text in texts_10000],\n",
    "\t'viginere_5': [mono_vigenere_cipher(text, viginere_key_5) for text in texts_10000],\n",
    "\t'viginere_10': [mono_vigenere_cipher(text, viginere_key_10) for text in texts_10000],\n",
    "\t'affine': [mono_affine_cipher(text, affine_key) for text in texts_10000],\n",
    "\t'random': [mono_uniform_distortion(10000) for i in range(len(texts_10000))],\n",
    "\t'reccurent': [mono_recurrent_sequence(10000) for i in range(len(texts_10000))]\n",
    "}\n"
   ]
  },
  {
   "cell_type": "markdown",
   "metadata": {},
   "source": [
    "## Bigrams"
   ]
  },
  {
   "cell_type": "code",
   "execution_count": 151,
   "metadata": {},
   "outputs": [],
   "source": [
    "viginere_key_1 = generate_random_lgram(all_bigrams_length)\n",
    "viginere_key_5 = generate_random_lgram(all_bigrams_length, 5)\n",
    "viginere_key_10 = generate_random_lgram(all_bigrams_length, 10)\n",
    "\n",
    "affine_key = generate_random_lgram(all_bigrams_length, 2)\n",
    "\n",
    "while affine_key[0] % 2 != 1:\n",
    "\taffine_key = generate_random_lgram(all_bigrams_length, 2)\n",
    "\n",
    "text_10_bi = {\n",
    "\t'viginere_1': [bi_vigenere_cipher(text, viginere_key_1) for text in texts_10],\n",
    "\t'viginere_5': [bi_vigenere_cipher(text, viginere_key_5) for text in texts_10],\n",
    "\t'viginere_10': [bi_vigenere_cipher(text, viginere_key_10) for text in texts_10],\n",
    "\t'affine': [bi_affine_cipher(text, affine_key) for text in texts_10],\n",
    "\t'random': [bi_uniform_distortion(10) for i in range(len(texts_10))],\n",
    "\t'reccurent': [bi_recurrent_sequence(10) for i in range(len(texts_10))]\n",
    "}\n",
    "\n",
    "text_100_bi = {\n",
    "\t'viginere_1': [bi_vigenere_cipher(text, viginere_key_1) for text in texts_100],\n",
    "\t'viginere_5': [bi_vigenere_cipher(text, viginere_key_5) for text in texts_100],\n",
    "\t'viginere_10': [bi_vigenere_cipher(text, viginere_key_10) for text in texts_100],\n",
    "\t'affine': [bi_affine_cipher(text, affine_key) for text in texts_100],\n",
    "\t'random': [bi_uniform_distortion(100) for i in range(len(texts_100))],\n",
    "\t'reccurent': [bi_recurrent_sequence(100) for i in range(len(texts_100))]\n",
    "}\n",
    "\n",
    "text_1000_bi = {\n",
    "\t'viginere_1': [bi_vigenere_cipher(text, viginere_key_1) for text in texts_1000],\n",
    "\t'viginere_5': [bi_vigenere_cipher(text, viginere_key_5) for text in texts_1000],\n",
    "\t'viginere_10': [bi_vigenere_cipher(text, viginere_key_10) for text in texts_1000],\n",
    "\t'affine': [bi_affine_cipher(text, affine_key) for text in texts_1000],\n",
    "\t'random': [bi_uniform_distortion(1000) for i in range(len(texts_1000))],\n",
    "\t'reccurent': [bi_recurrent_sequence(1000) for i in range(len(texts_1000))]\n",
    "}\n",
    "\n",
    "text_10000_bi = {\n",
    "\t'viginere_1': [bi_vigenere_cipher(text, viginere_key_1) for text in texts_10000],\n",
    "\t'viginere_5': [bi_vigenere_cipher(text, viginere_key_5) for text in texts_10000],\n",
    "\t'viginere_10': [bi_vigenere_cipher(text, viginere_key_10) for text in texts_10000],\n",
    "\t'affine': [bi_affine_cipher(text, affine_key) for text in texts_10000],\n",
    "\t'random': [bi_uniform_distortion(10000) for i in range(len(texts_10000))],\n",
    "\t'reccurent': [bi_recurrent_sequence(10000) for i in range(len(texts_10000))]\n",
    "}\n"
   ]
  },
  {
   "cell_type": "code",
   "execution_count": 152,
   "metadata": {},
   "outputs": [],
   "source": [
    "def test_criteria_for_specific_distortion(criteria, text_array):\n",
    "\tdef inner(*args):\n",
    "\t\tresults = [criteria(text, *args) for text in text_array]\n",
    "\n",
    "\t\treturn 1 - sum(results) / len(text_array)\n",
    "\n",
    "\treturn inner\n"
   ]
  },
  {
   "cell_type": "code",
   "execution_count": 153,
   "metadata": {},
   "outputs": [],
   "source": [
    "def test_criteria(criteria, text_array_dict):\n",
    "\tdef inner(*args):\n",
    "\t\tfor key in text_array_dict.keys():\n",
    "\t\t\tprint('   ', key, 1 - test_criteria_for_specific_distortion(criteria, text_array_dict[key])(*args))\n",
    "\n",
    "\treturn inner\n"
   ]
  },
  {
   "cell_type": "markdown",
   "metadata": {},
   "source": [
    "# Criteria 1.0"
   ]
  },
  {
   "cell_type": "markdown",
   "metadata": {},
   "source": [
    "## Real"
   ]
  },
  {
   "cell_type": "code",
   "execution_count": 154,
   "metadata": {},
   "outputs": [
    {
     "name": "stdout",
     "output_type": "stream",
     "text": [
      "L == 10\n",
      "    0.1471\n",
      "L == 100\n",
      "    0.7924\n",
      "L == 1000\n",
      "    1.0\n",
      "L == 10000\n",
      "    1.0\n"
     ]
    }
   ],
   "source": [
    "print('L == 10')\n",
    "print('   ', test_criteria_for_specific_distortion(mono_criteria_1_1, texts_10)())\n",
    "\n",
    "print('L == 100')\n",
    "print('   ', test_criteria_for_specific_distortion(mono_criteria_1_1, texts_100)())\n",
    "\n",
    "print('L == 1000')\n",
    "print('   ', test_criteria_for_specific_distortion(mono_criteria_1_1, texts_1000)())\n",
    "\n",
    "print('L == 10000')\n",
    "print('   ', test_criteria_for_specific_distortion(mono_criteria_1_1, texts_10000)())"
   ]
  },
  {
   "cell_type": "markdown",
   "metadata": {},
   "source": [
    "## Monogram"
   ]
  },
  {
   "cell_type": "code",
   "execution_count": 155,
   "metadata": {},
   "outputs": [
    {
     "name": "stdout",
     "output_type": "stream",
     "text": [
      "L == 10\n",
      "    viginere_1 0.3274\n",
      "    viginere_5 0.21340000000000003\n",
      "    viginere_10 0.1372\n",
      "    affine 0.1936\n",
      "    random 0.2643\n",
      "    reccurent 0.28869999999999996\n",
      "L == 100\n",
      "    viginere_1 0.0\n",
      "    viginere_5 0.0\n",
      "    viginere_10 0.0\n",
      "    affine 0.0\n",
      "    random 0.0\n",
      "    reccurent 0.014399999999999968\n",
      "L == 1000\n",
      "    viginere_1 0.0\n",
      "    viginere_5 0.0\n",
      "    viginere_10 0.0\n",
      "    affine 0.0\n",
      "    random 0.0\n",
      "    reccurent 0.015800000000000036\n",
      "L == 10000\n",
      "    viginere_1 0.0\n",
      "    viginere_5 0.0\n",
      "    viginere_10 0.0\n",
      "    affine 0.0\n",
      "    random 0.0\n",
      "    reccurent 0.02400000000000002\n"
     ]
    }
   ],
   "source": [
    "print('L == 10')\n",
    "test_criteria(mono_criteria_1_1, text_10_mono)()\n",
    "\n",
    "print('L == 100')\n",
    "test_criteria(mono_criteria_1_1, text_100_mono)()\n",
    "\n",
    "print('L == 1000')\n",
    "test_criteria(mono_criteria_1_1, text_1000_mono)()\n",
    "\n",
    "print('L == 10000')\n",
    "test_criteria(mono_criteria_1_1, text_10000_mono)()"
   ]
  },
  {
   "cell_type": "markdown",
   "metadata": {},
   "source": []
  },
  {
   "cell_type": "code",
   "execution_count": 189,
   "metadata": {},
   "outputs": [
    {
     "name": "stdout",
     "output_type": "stream",
     "text": [
      "L == 10\n",
      "    0.017199999999999993\n",
      "L == 100\n",
      "    0.1674\n",
      "L == 1000\n",
      "    0.8274\n",
      "L == 10000\n",
      "    1.0\n"
     ]
    }
   ],
   "source": [
    "print('L == 10')\n",
    "print('   ', test_criteria_for_specific_distortion(bi_criteria_1_1, texts_10)())\n",
    "\n",
    "print('L == 100')\n",
    "print('   ', test_criteria_for_specific_distortion(bi_criteria_1_1, texts_100)())\n",
    "\n",
    "print('L == 1000')\n",
    "print('   ', test_criteria_for_specific_distortion(bi_criteria_1_1, texts_1000)())\n",
    "\n",
    "print('L == 10000')\n",
    "print('   ', test_criteria_for_specific_distortion(bi_criteria_1_1, texts_10000)())"
   ]
  },
  {
   "cell_type": "markdown",
   "metadata": {},
   "source": [
    "## Bigram"
   ]
  },
  {
   "cell_type": "code",
   "execution_count": 156,
   "metadata": {},
   "outputs": [
    {
     "name": "stdout",
     "output_type": "stream",
     "text": [
      "L == 10\n",
      "    viginere_1 0.16810000000000003\n",
      "    viginere_5 0.09540000000000004\n",
      "    viginere_10 0.10040000000000004\n",
      "    affine 0.13650000000000007\n",
      "    random 0.006399999999999961\n",
      "    reccurent 0.10030000000000006\n",
      "L == 100\n",
      "    viginere_1 0.0\n",
      "    viginere_5 0.0\n",
      "    viginere_10 0.0\n",
      "    affine 0.0\n",
      "    random 0.0\n",
      "    reccurent 0.00019999999999997797\n",
      "L == 1000\n",
      "    viginere_1 0.0\n",
      "    viginere_5 0.0\n",
      "    viginere_10 0.0\n",
      "    affine 0.0\n",
      "    random 0.0\n",
      "    reccurent 0.00019999999999997797\n",
      "L == 10000\n",
      "    viginere_1 0.0\n",
      "    viginere_5 0.0\n",
      "    viginere_10 0.0\n",
      "    affine 0.0\n",
      "    random 0.0\n",
      "    reccurent 0.0010000000000000009\n"
     ]
    }
   ],
   "source": [
    "print('L == 10')\n",
    "test_criteria(bi_criteria_1_1, text_10_bi)()\n",
    "\n",
    "print('L == 100')\n",
    "test_criteria(bi_criteria_1_1, text_100_bi)()\n",
    "\n",
    "print('L == 1000')\n",
    "test_criteria(bi_criteria_1_1, text_1000_bi)()\n",
    "\n",
    "print('L == 10000')\n",
    "test_criteria(bi_criteria_1_1, text_10000_bi)()"
   ]
  },
  {
   "cell_type": "markdown",
   "metadata": {},
   "source": [
    "# Criteria 1.1"
   ]
  },
  {
   "cell_type": "markdown",
   "metadata": {},
   "source": [
    "## Real monograms"
   ]
  },
  {
   "cell_type": "code",
   "execution_count": 157,
   "metadata": {},
   "outputs": [
    {
     "name": "stdout",
     "output_type": "stream",
     "text": [
      "L == 10\n",
      "    0.1471\n",
      "L == 100\n",
      "    0.08230000000000004\n",
      "L == 1000\n",
      "    0.5065\n",
      "L == 10000\n",
      "    0.997\n"
     ]
    }
   ],
   "source": [
    "print('L == 10')\n",
    "print('   ', test_criteria_for_specific_distortion(mono_criteria_1_1, texts_10)(1))\n",
    "\n",
    "print('L == 100')\n",
    "print('   ', test_criteria_for_specific_distortion(mono_criteria_1_1, texts_100)(3))\n",
    "\n",
    "print('L == 1000')\n",
    "print('   ', test_criteria_for_specific_distortion(mono_criteria_1_1, texts_1000)(4))\n",
    "\n",
    "print('L == 10000')\n",
    "print('   ', test_criteria_for_specific_distortion(mono_criteria_1_1, texts_10000)(4))"
   ]
  },
  {
   "cell_type": "markdown",
   "metadata": {},
   "source": [
    "## Distorted monogram"
   ]
  },
  {
   "cell_type": "code",
   "execution_count": 158,
   "metadata": {},
   "outputs": [
    {
     "name": "stdout",
     "output_type": "stream",
     "text": [
      "L == 10\n",
      "    viginere_1 0.3274\n",
      "    viginere_5 0.21340000000000003\n",
      "    viginere_10 0.1372\n",
      "    affine 0.1936\n",
      "    random 0.2643\n",
      "    reccurent 0.28869999999999996\n",
      "L == 100\n",
      "    viginere_1 0.18300000000000005\n",
      "    viginere_5 0.011199999999999988\n",
      "    viginere_10 0.0017000000000000348\n",
      "    affine 0.013499999999999956\n",
      "    random 0.008700000000000041\n",
      "    reccurent 0.5734\n",
      "L == 1000\n",
      "    viginere_1 0.4536\n",
      "    viginere_5 0.0\n",
      "    viginere_10 0.0\n",
      "    affine 0.0008000000000000229\n",
      "    random 0.0\n",
      "    reccurent 0.9059\n",
      "L == 10000\n",
      "    viginere_1 0.0030000000000000027\n",
      "    viginere_5 0.0\n",
      "    viginere_10 0.0\n",
      "    affine 0.0\n",
      "    random 0.0\n",
      "    reccurent 0.898\n"
     ]
    }
   ],
   "source": [
    "print('L == 10')\n",
    "test_criteria(mono_criteria_1_1, text_10_mono)(1)\n",
    "\n",
    "print('L == 100')\n",
    "test_criteria(mono_criteria_1_1, text_100_mono)(3)\n",
    "\n",
    "print('L == 1000')\n",
    "test_criteria(mono_criteria_1_1, text_1000_mono)(4)\n",
    "\n",
    "print('L == 10000')\n",
    "test_criteria(mono_criteria_1_1, text_10000_mono)(4)"
   ]
  },
  {
   "cell_type": "markdown",
   "metadata": {},
   "source": [
    "## Real bigram"
   ]
  },
  {
   "cell_type": "code",
   "execution_count": 159,
   "metadata": {},
   "outputs": [
    {
     "name": "stdout",
     "output_type": "stream",
     "text": [
      "L == 10\n",
      "    0.017199999999999993\n",
      "L == 100\n",
      "    0.0\n",
      "L == 1000\n",
      "    0.0\n",
      "L == 10000\n",
      "    0.0\n"
     ]
    }
   ],
   "source": [
    "print('L == 10')\n",
    "print('   ', test_criteria_for_specific_distortion(bi_criteria_1_1, texts_10)(1))\n",
    "\n",
    "print('L == 100')\n",
    "print('   ', test_criteria_for_specific_distortion(bi_criteria_1_1, texts_100)(10))\n",
    "\n",
    "print('L == 1000')\n",
    "print('   ', test_criteria_for_specific_distortion(bi_criteria_1_1, texts_1000)(50))\n",
    "\n",
    "print('L == 10000')\n",
    "print('   ', test_criteria_for_specific_distortion(bi_criteria_1_1, texts_10000)(100))"
   ]
  },
  {
   "cell_type": "markdown",
   "metadata": {},
   "source": [
    "## Distorted bigram"
   ]
  },
  {
   "cell_type": "code",
   "execution_count": 160,
   "metadata": {},
   "outputs": [
    {
     "name": "stdout",
     "output_type": "stream",
     "text": [
      "L == 10\n",
      "    viginere_1 0.16810000000000003\n",
      "    viginere_5 0.09540000000000004\n",
      "    viginere_10 0.10040000000000004\n",
      "    affine 0.13650000000000007\n",
      "    random 0.006399999999999961\n",
      "    reccurent 0.10030000000000006\n",
      "L == 100\n",
      "    viginere_1 0.01849999999999996\n",
      "    viginere_5 0.00019999999999997797\n",
      "    viginere_10 0.00029999999999996696\n",
      "    affine 0.0031999999999999806\n",
      "    random 0.0\n",
      "    reccurent 0.007900000000000018\n",
      "L == 1000\n",
      "    viginere_1 0.0\n",
      "    viginere_5 0.0\n",
      "    viginere_10 0.0\n",
      "    affine 0.0\n",
      "    random 0.0\n",
      "    reccurent 0.015900000000000025\n",
      "L == 10000\n",
      "    viginere_1 0.0\n",
      "    viginere_5 0.0\n",
      "    viginere_10 0.0\n",
      "    affine 0.0\n",
      "    random 0.0\n",
      "    reccurent 0.06899999999999995\n"
     ]
    }
   ],
   "source": [
    "print('L == 10')\n",
    "test_criteria(bi_criteria_1_1, text_10_bi)(1)\n",
    "\n",
    "print('L == 100')\n",
    "test_criteria(bi_criteria_1_1, text_100_bi)(10)\n",
    "\n",
    "print('L == 1000')\n",
    "test_criteria(bi_criteria_1_1, text_1000_bi)(50)\n",
    "\n",
    "print('L == 10000')\n",
    "test_criteria(bi_criteria_1_1, text_10000_bi)(100)"
   ]
  },
  {
   "cell_type": "markdown",
   "metadata": {},
   "source": [
    "# Criteria 1.2"
   ]
  },
  {
   "cell_type": "markdown",
   "metadata": {},
   "source": [
    "## Real monogram"
   ]
  },
  {
   "cell_type": "code",
   "execution_count": 161,
   "metadata": {},
   "outputs": [
    {
     "name": "stdout",
     "output_type": "stream",
     "text": [
      "L == 10\n",
      "    0.1471\n",
      "L == 100\n",
      "    0.05259999999999998\n",
      "L == 1000\n",
      "    0.011399999999999966\n",
      "L == 10000\n",
      "    0.05800000000000005\n"
     ]
    }
   ],
   "source": [
    "print('L == 10')\n",
    "print('   ', test_criteria_for_specific_distortion(mono_prohibited_frequencies_1, texts_10)(0.1))\n",
    "\n",
    "print('L == 100')\n",
    "print('   ', test_criteria_for_specific_distortion(mono_prohibited_frequencies_1, texts_100)(0.025))\n",
    "\n",
    "print('L == 1000')\n",
    "print('   ', test_criteria_for_specific_distortion(mono_prohibited_frequencies_1, texts_1000)(0.015))\n",
    "\n",
    "print('L == 10000')\n",
    "print('   ', test_criteria_for_specific_distortion(mono_prohibited_frequencies_1, texts_10000)(0.008))"
   ]
  },
  {
   "cell_type": "markdown",
   "metadata": {},
   "source": [
    "## Distorted monogram"
   ]
  },
  {
   "cell_type": "code",
   "execution_count": 162,
   "metadata": {},
   "outputs": [
    {
     "name": "stdout",
     "output_type": "stream",
     "text": [
      "L == 10\n",
      "    viginere_1 0.3274\n",
      "    viginere_5 0.21340000000000003\n",
      "    viginere_10 0.1372\n",
      "    affine 0.1936\n",
      "    random 0.2643\n",
      "    reccurent 0.28869999999999996\n",
      "L == 100\n",
      "    viginere_1 0.03759999999999997\n",
      "    viginere_5 0.0044999999999999485\n",
      "    viginere_10 0.00019999999999997797\n",
      "    affine 0.0024999999999999467\n",
      "    random 0.01880000000000004\n",
      "    reccurent 0.014399999999999968\n",
      "L == 1000\n",
      "    viginere_1 0.0\n",
      "    viginere_5 0.0\n",
      "    viginere_10 0.0\n",
      "    affine 0.0\n",
      "    random 0.0\n",
      "    reccurent 0.015800000000000036\n",
      "L == 10000\n",
      "    viginere_1 0.0\n",
      "    viginere_5 0.0\n",
      "    viginere_10 0.0\n",
      "    affine 0.0\n",
      "    random 0.0\n",
      "    reccurent 0.02400000000000002\n"
     ]
    }
   ],
   "source": [
    "print('L == 10')\n",
    "test_criteria(mono_prohibited_frequencies_1, text_10_mono)(0.1)\n",
    "\n",
    "print('L == 100')\n",
    "test_criteria(mono_prohibited_frequencies_1, text_100_mono)(0.025)\n",
    "\n",
    "print('L == 1000')\n",
    "test_criteria(mono_prohibited_frequencies_1, text_1000_mono)(0.015)\n",
    "\n",
    "print('L == 10000')\n",
    "test_criteria(mono_prohibited_frequencies_1, text_10000_mono)(0.008)"
   ]
  },
  {
   "cell_type": "markdown",
   "metadata": {},
   "source": [
    "## Real bigram"
   ]
  },
  {
   "cell_type": "code",
   "execution_count": 171,
   "metadata": {},
   "outputs": [
    {
     "name": "stdout",
     "output_type": "stream",
     "text": [
      "L == 10\n",
      "    0.017199999999999993\n",
      "L == 100\n",
      "    0.0020999999999999908\n",
      "L == 1000\n",
      "    0.0020999999999999908\n",
      "L == 10000\n",
      "    0.01200000000000001\n"
     ]
    }
   ],
   "source": [
    "print('L == 10')\n",
    "print('   ', test_criteria_for_specific_distortion(bi_prohibited_frequencies_1, texts_10)(0.1))\n",
    "\n",
    "print('L == 100')\n",
    "print('   ', test_criteria_for_specific_distortion(bi_prohibited_frequencies_1, texts_100)(0.0125))\n",
    "\n",
    "print('L == 1000')\n",
    "print('   ', test_criteria_for_specific_distortion(bi_prohibited_frequencies_1, texts_1000)(0.0035))\n",
    "\n",
    "print('L == 10000')\n",
    "print('   ', test_criteria_for_specific_distortion(bi_prohibited_frequencies_1, texts_10000)(0.001))"
   ]
  },
  {
   "cell_type": "markdown",
   "metadata": {},
   "source": [
    "## Distorted bigram"
   ]
  },
  {
   "cell_type": "code",
   "execution_count": 194,
   "metadata": {},
   "outputs": [
    {
     "name": "stdout",
     "output_type": "stream",
     "text": [
      "L == 10\n",
      "    viginere_1 0.16810000000000003\n",
      "    viginere_5 0.09540000000000004\n",
      "    viginere_10 0.10040000000000004\n",
      "    affine 0.13650000000000007\n",
      "    random 0.9612\n",
      "    reccurent 0.10030000000000006\n",
      "L == 100\n",
      "    viginere_1 0.12680000000000002\n",
      "    viginere_5 0.2379\n",
      "    viginere_10 0.31590000000000007\n",
      "    affine 0.1511\n",
      "    random 0.7696\n",
      "    reccurent 0.242\n",
      "L == 1000\n",
      "    viginere_1 0.0\n",
      "    viginere_5 9.999999999998899e-05\n",
      "    viginere_10 0.0014999999999999458\n",
      "    affine 0.0\n",
      "    random 0.3582000000000001\n",
      "    reccurent 0.0017000000000000348\n",
      "L == 10000\n",
      "    viginere_1 0.0\n",
      "    viginere_5 0.0\n",
      "    viginere_10 0.0\n",
      "    affine 0.0\n",
      "    random 0.0\n",
      "    reccurent 0.0010000000000000009\n"
     ]
    }
   ],
   "source": [
    "print('L == 10')\n",
    "test_criteria(bi_prohibited_frequencies_1, text_10_bi)(0.1)\n",
    "\n",
    "print('L == 100')\n",
    "test_criteria(bi_prohibited_frequencies_1, text_100_bi)(0.0125)\n",
    "\n",
    "print('L == 1000')\n",
    "test_criteria(bi_prohibited_frequencies_1, text_1000_bi)(0.0035)\n",
    "\n",
    "print('L == 10000')\n",
    "test_criteria(bi_prohibited_frequencies_1, text_10000_bi)(0.001)"
   ]
  },
  {
   "cell_type": "markdown",
   "metadata": {},
   "source": [
    "# Criteria 1.3"
   ]
  },
  {
   "cell_type": "markdown",
   "metadata": {},
   "source": [
    "## Real monogram"
   ]
  },
  {
   "cell_type": "code",
   "execution_count": 173,
   "metadata": {},
   "outputs": [
    {
     "name": "stdout",
     "output_type": "stream",
     "text": [
      "L == 10\n",
      "    0.00990000000000002\n",
      "L == 100\n",
      "    0.008199999999999985\n",
      "L == 1000\n",
      "    0.036900000000000044\n",
      "L == 10000\n",
      "    0.014000000000000012\n"
     ]
    }
   ],
   "source": [
    "print('L == 10')\n",
    "print('   ', test_criteria_for_specific_distortion(mono_prohibited_frequencies_2, texts_10)(0.1))\n",
    "\n",
    "print('L == 100')\n",
    "print('   ', test_criteria_for_specific_distortion(mono_prohibited_frequencies_2, texts_100)(0.05))\n",
    "\n",
    "print('L == 1000')\n",
    "print('   ', test_criteria_for_specific_distortion(mono_prohibited_frequencies_2, texts_1000)(0.025))\n",
    "\n",
    "print('L == 10000')\n",
    "print('   ', test_criteria_for_specific_distortion(mono_prohibited_frequencies_2, texts_10000)(0.02))"
   ]
  },
  {
   "cell_type": "markdown",
   "metadata": {},
   "source": [
    "## Distorted monogram"
   ]
  },
  {
   "cell_type": "code",
   "execution_count": 174,
   "metadata": {},
   "outputs": [
    {
     "name": "stdout",
     "output_type": "stream",
     "text": [
      "L == 10\n",
      "    viginere_1 0.777\n",
      "    viginere_5 0.578\n",
      "    viginere_10 0.43209999999999993\n",
      "    affine 0.5758\n",
      "    random 0.6367\n",
      "    reccurent 0.6177\n",
      "L == 100\n",
      "    viginere_1 0.06600000000000006\n",
      "    viginere_5 0.0029000000000000137\n",
      "    viginere_10 0.0\n",
      "    affine 0.0030000000000000027\n",
      "    random 0.009099999999999997\n",
      "    reccurent 0.07689999999999997\n",
      "L == 1000\n",
      "    viginere_1 0.0\n",
      "    viginere_5 0.0\n",
      "    viginere_10 0.0\n",
      "    affine 0.0\n",
      "    random 0.0\n",
      "    reccurent 0.015800000000000036\n",
      "L == 10000\n",
      "    viginere_1 0.0\n",
      "    viginere_5 0.0\n",
      "    viginere_10 0.0\n",
      "    affine 0.0\n",
      "    random 0.0\n",
      "    reccurent 0.02400000000000002\n"
     ]
    }
   ],
   "source": [
    "print('L == 10')\n",
    "test_criteria(mono_prohibited_frequencies_2, text_10_mono)(0.1)\n",
    "\n",
    "print('L == 100')\n",
    "test_criteria(mono_prohibited_frequencies_2, text_100_mono)(0.05)\n",
    "\n",
    "print('L == 1000')\n",
    "test_criteria(mono_prohibited_frequencies_2, text_1000_mono)(0.025)\n",
    "\n",
    "print('L == 10000')\n",
    "test_criteria(mono_prohibited_frequencies_2, text_10000_mono)(0.02)"
   ]
  },
  {
   "cell_type": "markdown",
   "metadata": {},
   "source": [
    "## Real Bigram"
   ]
  },
  {
   "cell_type": "code",
   "execution_count": 175,
   "metadata": {},
   "outputs": [
    {
     "name": "stdout",
     "output_type": "stream",
     "text": [
      "L == 10\n",
      "    0.017199999999999993\n",
      "L == 100\n",
      "    0.0022999999999999687\n",
      "L == 1000\n",
      "    0.0\n",
      "L == 10000\n",
      "    0.0\n"
     ]
    }
   ],
   "source": [
    "print('L == 10')\n",
    "print('   ', test_criteria_for_specific_distortion(bi_prohibited_frequencies_2, texts_10)(0.075))\n",
    "\n",
    "print('L == 100')\n",
    "print('   ', test_criteria_for_specific_distortion(bi_prohibited_frequencies_2, texts_100)(0.025))\n",
    "\n",
    "print('L == 1000')\n",
    "print('   ', test_criteria_for_specific_distortion(bi_prohibited_frequencies_2, texts_1000)(0.015))\n",
    "\n",
    "print('L == 10000')\n",
    "print('   ', test_criteria_for_specific_distortion(bi_prohibited_frequencies_2, texts_10000)(0.008))"
   ]
  },
  {
   "cell_type": "markdown",
   "metadata": {},
   "source": [
    "## Distorted Bigram"
   ]
  },
  {
   "cell_type": "code",
   "execution_count": 195,
   "metadata": {},
   "outputs": [
    {
     "name": "stdout",
     "output_type": "stream",
     "text": [
      "L == 10\n",
      "    viginere_1 0.16810000000000003\n",
      "    viginere_5 0.09540000000000004\n",
      "    viginere_10 0.10040000000000004\n",
      "    affine 0.13650000000000007\n",
      "    random 0.04300000000000004\n",
      "    reccurent 0.10030000000000006\n",
      "L == 100\n",
      "    viginere_1 0.0\n",
      "    viginere_5 0.0\n",
      "    viginere_10 0.0\n",
      "    affine 0.0\n",
      "    random 0.0\n",
      "    reccurent 0.0006000000000000449\n",
      "L == 1000\n",
      "    viginere_1 0.0\n",
      "    viginere_5 0.0\n",
      "    viginere_10 0.0\n",
      "    affine 0.0\n",
      "    random 0.0\n",
      "    reccurent 0.00019999999999997797\n",
      "L == 10000\n",
      "    viginere_1 0.0\n",
      "    viginere_5 0.0\n",
      "    viginere_10 0.0\n",
      "    affine 0.0\n",
      "    random 0.0\n",
      "    reccurent 0.0010000000000000009\n"
     ]
    }
   ],
   "source": [
    "print('L == 10')\n",
    "test_criteria(bi_prohibited_frequencies_2, text_10_bi)(0.075)\n",
    "\n",
    "print('L == 100')\n",
    "test_criteria(bi_prohibited_frequencies_2, text_100_bi)(0.025)\n",
    "\n",
    "print('L == 1000')\n",
    "test_criteria(bi_prohibited_frequencies_2, text_1000_bi)(0.015)\n",
    "\n",
    "print('L == 10000')\n",
    "test_criteria(bi_prohibited_frequencies_2, text_10000_bi)(0.008)"
   ]
  },
  {
   "cell_type": "markdown",
   "metadata": {},
   "source": [
    "# Criteria 3.0"
   ]
  },
  {
   "cell_type": "markdown",
   "metadata": {},
   "source": [
    "## Real monogram"
   ]
  },
  {
   "cell_type": "code",
   "execution_count": 177,
   "metadata": {},
   "outputs": [
    {
     "name": "stdout",
     "output_type": "stream",
     "text": [
      "L == 10\n",
      "    0.043300000000000005\n",
      "L == 100\n",
      "    0.008600000000000052\n",
      "L == 1000\n",
      "    0.06369999999999998\n",
      "L == 10000\n",
      "    0.039000000000000035\n"
     ]
    }
   ],
   "source": [
    "print('L == 10')\n",
    "print('   ', test_criteria_for_specific_distortion(mono_criteria_3_0, texts_10)(1.95))\n",
    "\n",
    "print('L == 100')\n",
    "print('   ', test_criteria_for_specific_distortion(mono_criteria_3_0, texts_100)(0.5))\n",
    "\n",
    "print('L == 1000')\n",
    "print('   ', test_criteria_for_specific_distortion(mono_criteria_3_0, texts_1000)(0.08))\n",
    "\n",
    "print('L == 10000')\n",
    "print('   ', test_criteria_for_specific_distortion(mono_criteria_3_0, texts_10000)(0.025))"
   ]
  },
  {
   "cell_type": "markdown",
   "metadata": {},
   "source": [
    "## Distorted monogram"
   ]
  },
  {
   "cell_type": "code",
   "execution_count": 178,
   "metadata": {},
   "outputs": [
    {
     "name": "stdout",
     "output_type": "stream",
     "text": [
      "L == 10\n",
      "    viginere_1 0.9567\n",
      "    viginere_5 0.9787\n",
      "    viginere_10 0.9731\n",
      "    affine 0.9567\n",
      "    random 0.982\n",
      "    reccurent 0.9437\n",
      "L == 100\n",
      "    viginere_1 0.9914\n",
      "    viginere_5 1.0\n",
      "    viginere_10 1.0\n",
      "    affine 0.9914\n",
      "    random 1.0\n",
      "    reccurent 0.7616\n",
      "L == 1000\n",
      "    viginere_1 0.9363\n",
      "    viginere_5 0.0\n",
      "    viginere_10 0.0\n",
      "    affine 0.9363\n",
      "    random 0.0\n",
      "    reccurent 0.0\n",
      "L == 10000\n",
      "    viginere_1 0.961\n",
      "    viginere_5 0.0\n",
      "    viginere_10 0.0\n",
      "    affine 0.961\n",
      "    random 0.0\n",
      "    reccurent 0.0\n"
     ]
    }
   ],
   "source": [
    "print('L == 10')\n",
    "test_criteria(mono_criteria_3_0, text_10_mono)(1.95)\n",
    "\n",
    "print('L == 100')\n",
    "test_criteria(mono_criteria_3_0, text_100_mono)(0.5)\n",
    "\n",
    "print('L == 1000')\n",
    "test_criteria(mono_criteria_3_0, text_1000_mono)(0.08)\n",
    "\n",
    "print('L == 10000')\n",
    "test_criteria(mono_criteria_3_0, text_10000_mono)(0.025)"
   ]
  },
  {
   "cell_type": "markdown",
   "metadata": {},
   "source": [
    "## Real bigram"
   ]
  },
  {
   "cell_type": "code",
   "execution_count": 192,
   "metadata": {},
   "outputs": [
    {
     "name": "stdout",
     "output_type": "stream",
     "text": [
      "L == 10\n",
      "    1.0\n",
      "L == 100\n",
      "    0.0\n",
      "L == 1000\n",
      "    0.4899\n",
      "L == 10000\n",
      "    0.03600000000000003\n"
     ]
    }
   ],
   "source": [
    "print('L == 10')\n",
    "print('   ', test_criteria_for_specific_distortion(bi_criteria_3_0, texts_10)(2))\n",
    "\n",
    "print('L == 100')\n",
    "print('   ', test_criteria_for_specific_distortion(bi_criteria_3_0, texts_100)(2))\n",
    "\n",
    "print('L == 1000')\n",
    "print('   ', test_criteria_for_specific_distortion(bi_criteria_3_0, texts_1000)(0.275))\n",
    "\n",
    "print('L == 10000')\n",
    "print('   ', test_criteria_for_specific_distortion(bi_criteria_3_0, texts_10000)(0.075))"
   ]
  },
  {
   "cell_type": "markdown",
   "metadata": {},
   "source": [
    "## Distorted bigram"
   ]
  },
  {
   "cell_type": "code",
   "execution_count": 193,
   "metadata": {},
   "outputs": [
    {
     "name": "stdout",
     "output_type": "stream",
     "text": [
      "L == 10\n",
      "    viginere_1 0.0\n",
      "    viginere_5 0.0\n",
      "    viginere_10 0.0\n",
      "    affine 0.0\n",
      "    random 0.0\n",
      "    reccurent 0.0\n",
      "L == 100\n",
      "    viginere_1 1.0\n",
      "    viginere_5 1.0\n",
      "    viginere_10 1.0\n",
      "    affine 1.0\n",
      "    random 1.0\n",
      "    reccurent 0.9996\n",
      "L == 1000\n",
      "    viginere_1 1.0\n",
      "    viginere_5 0.7463\n",
      "    viginere_10 0.0050000000000000044\n",
      "    affine 1.0\n",
      "    random 0.0\n",
      "    reccurent 0.6483\n",
      "L == 10000\n",
      "    viginere_1 0.0\n",
      "    viginere_5 0.0\n",
      "    viginere_10 0.0\n",
      "    affine 0.0\n",
      "    random 0.0\n",
      "    reccurent 0.0010000000000000009\n"
     ]
    }
   ],
   "source": [
    "print('L == 10')\n",
    "test_criteria(bi_criteria_3_0, text_10_bi)(2)\n",
    "\n",
    "print('L == 100')\n",
    "test_criteria(bi_criteria_3_0, text_100_bi)(2)\n",
    "\n",
    "print('L == 1000')\n",
    "test_criteria(bi_criteria_3_0, text_1000_bi)(0.275)\n",
    "\n",
    "print('L == 10000')\n",
    "test_criteria(bi_criteria_1_1, text_10000_bi)(0.075)"
   ]
  },
  {
   "cell_type": "markdown",
   "metadata": {},
   "source": [
    "# Criteria 5.1"
   ]
  },
  {
   "cell_type": "markdown",
   "metadata": {},
   "source": [
    "## Real monogram"
   ]
  },
  {
   "cell_type": "code",
   "execution_count": 181,
   "metadata": {},
   "outputs": [
    {
     "name": "stdout",
     "output_type": "stream",
     "text": [
      "L == 10\n",
      "    0.027900000000000036\n",
      "L == 100\n",
      "    0.038799999999999946\n",
      "L == 1000\n",
      "    0.0\n",
      "L == 10000\n",
      "    0.0\n"
     ]
    }
   ],
   "source": [
    "print('L == 10')\n",
    "print('   ', test_criteria_for_specific_distortion(mono_empty_boxes, texts_10)(7, most_common_monograms))\n",
    "\n",
    "print('L == 100')\n",
    "print('   ', test_criteria_for_specific_distortion(mono_empty_boxes, texts_100)(0, most_common_monograms))\n",
    "\n",
    "print('L == 1000')\n",
    "print('   ', test_criteria_for_specific_distortion(mono_empty_boxes, texts_1000)(0, most_common_monograms))\n",
    "\n",
    "print('L == 10000')\n",
    "print('   ', test_criteria_for_specific_distortion(mono_empty_boxes, texts_10000)(0, most_common_monograms))"
   ]
  },
  {
   "cell_type": "markdown",
   "metadata": {},
   "source": [
    "## Distorted Monogram"
   ]
  },
  {
   "cell_type": "code",
   "execution_count": 182,
   "metadata": {},
   "outputs": [
    {
     "name": "stdout",
     "output_type": "stream",
     "text": [
      "L == 10\n",
      "    viginere_1 0.6617\n",
      "    viginere_5 0.7166\n",
      "    viginere_10 0.472\n",
      "    affine 0.3595999999999999\n",
      "    random 0.558\n",
      "    reccurent 0.502\n",
      "L == 100\n",
      "    viginere_1 0.12480000000000002\n",
      "    viginere_5 0.6978\n",
      "    viginere_10 0.3435\n",
      "    affine 0.05059999999999998\n",
      "    random 0.6459\n",
      "    reccurent 0.0\n",
      "L == 1000\n",
      "    viginere_1 0.9903\n",
      "    viginere_5 1.0\n",
      "    viginere_10 1.0\n",
      "    affine 0.9848\n",
      "    random 1.0\n",
      "    reccurent 0.0\n",
      "L == 10000\n",
      "    viginere_1 1.0\n",
      "    viginere_5 1.0\n",
      "    viginere_10 1.0\n",
      "    affine 1.0\n",
      "    random 1.0\n",
      "    reccurent 0.0\n"
     ]
    }
   ],
   "source": [
    "print('L == 10')\n",
    "test_criteria(mono_empty_boxes, text_10_mono)(7, most_common_monograms)\n",
    "\n",
    "print('L == 100')\n",
    "test_criteria(mono_empty_boxes, text_100_mono)(0, most_common_monograms)\n",
    "\n",
    "print('L == 1000')\n",
    "test_criteria(mono_empty_boxes, text_1000_mono)(0, most_common_monograms)\n",
    "\n",
    "print('L == 10000')\n",
    "test_criteria(mono_empty_boxes, text_10000_mono)(0, most_common_monograms)"
   ]
  },
  {
   "cell_type": "markdown",
   "metadata": {},
   "source": [
    "## Real bigram"
   ]
  },
  {
   "cell_type": "code",
   "execution_count": 183,
   "metadata": {},
   "outputs": [
    {
     "name": "stdout",
     "output_type": "stream",
     "text": [
      "L == 10\n",
      "    0.3296\n",
      "L == 100\n",
      "    0.05569999999999997\n",
      "L == 1000\n",
      "    0.0\n",
      "L == 10000\n",
      "    0.009000000000000008\n"
     ]
    }
   ],
   "source": [
    "print('L == 10')\n",
    "print('   ', test_criteria_for_specific_distortion(bi_empty_boxes, texts_10)(47, most_common_bigrams_50))\n",
    "\n",
    "print('L == 100')\n",
    "print('   ', test_criteria_for_specific_distortion(bi_empty_boxes, texts_100)(30, most_common_bigrams_50))\n",
    "\n",
    "print('L == 1000')\n",
    "print('   ', test_criteria_for_specific_distortion(bi_empty_boxes, texts_1000)(10, most_common_bigrams_100))\n",
    "\n",
    "print('L == 10000')\n",
    "print('   ', test_criteria_for_specific_distortion(bi_empty_boxes, texts_10000)(0, most_common_bigrams_200))\n"
   ]
  },
  {
   "cell_type": "markdown",
   "metadata": {},
   "source": [
    "## Distorted Bigram"
   ]
  },
  {
   "cell_type": "code",
   "execution_count": 184,
   "metadata": {},
   "outputs": [
    {
     "name": "stdout",
     "output_type": "stream",
     "text": [
      "L == 10\n",
      "    viginere_1 0.03649999999999998\n",
      "    viginere_5 0.012399999999999967\n",
      "    viginere_10 0.007499999999999951\n",
      "    affine 0.016900000000000026\n",
      "    random 0.07120000000000004\n",
      "    reccurent 0.013000000000000012\n",
      "L == 100\n",
      "    viginere_1 0.0\n",
      "    viginere_5 0.0\n",
      "    viginere_10 0.0\n",
      "    affine 0.0\n",
      "    random 0.00039999999999995595\n",
      "    reccurent 0.0\n",
      "L == 1000\n",
      "    viginere_1 0.0\n",
      "    viginere_5 0.0\n",
      "    viginere_10 0.0\n",
      "    affine 0.0\n",
      "    random 0.14539999999999997\n",
      "    reccurent 0.0\n",
      "L == 10000\n",
      "    viginere_1 0.0\n",
      "    viginere_5 0.05300000000000005\n",
      "    viginere_10 0.613\n",
      "    affine 0.0\n",
      "    random 1.0\n",
      "    reccurent 0.0\n"
     ]
    }
   ],
   "source": [
    "print('L == 10')\n",
    "test_criteria(bi_empty_boxes, text_10_bi)(47, most_common_bigrams_50)\n",
    "\n",
    "print('L == 100')\n",
    "test_criteria(bi_empty_boxes, text_100_bi)(30, most_common_bigrams_50)\n",
    "\n",
    "print('L == 1000')\n",
    "test_criteria(bi_empty_boxes, text_1000_bi)(10, most_common_bigrams_100)\n",
    "\n",
    "print('L == 10000')\n",
    "test_criteria(bi_empty_boxes, text_10000_bi)(0, most_common_bigrams_200)"
   ]
  },
  {
   "cell_type": "markdown",
   "metadata": {},
   "source": [
    "# Structural Criteria"
   ]
  },
  {
   "cell_type": "markdown",
   "metadata": {},
   "source": [
    "## Real monogram"
   ]
  },
  {
   "cell_type": "code",
   "execution_count": 185,
   "metadata": {},
   "outputs": [
    {
     "name": "stdout",
     "output_type": "stream",
     "text": [
      "L == 10\n",
      "    0.3791\n",
      "L == 100\n",
      "    0.06679999999999997\n",
      "L == 1000\n",
      "    0.0\n",
      "L == 10000\n",
      "    0.0\n"
     ]
    }
   ],
   "source": [
    "print('L == 10')\n",
    "print('   ', test_criteria_for_specific_distortion(structure_criteria, texts_10)(0.001))\n",
    "\n",
    "print('L == 100')\n",
    "print('   ', test_criteria_for_specific_distortion(structure_criteria, texts_100)(0.025))\n",
    "\n",
    "print('L == 1000')\n",
    "print('   ', test_criteria_for_specific_distortion(structure_criteria, texts_1000)(0.15))\n",
    "\n",
    "print('L == 10000')\n",
    "print('   ', test_criteria_for_specific_distortion(structure_criteria, texts_10000)(0.25))"
   ]
  },
  {
   "cell_type": "markdown",
   "metadata": {},
   "source": [
    "## Distorted monogram"
   ]
  },
  {
   "cell_type": "code",
   "execution_count": 186,
   "metadata": {},
   "outputs": [
    {
     "name": "stdout",
     "output_type": "stream",
     "text": [
      "L == 10\n",
      "    viginere_1 0.6638\n",
      "    viginere_5 0.5849\n",
      "    viginere_10 0.6391\n",
      "    affine 0.6427\n",
      "    random 0.6171\n",
      "    reccurent 0.6281\n",
      "L == 100\n",
      "    viginere_1 0.9269\n",
      "    viginere_5 0.15659999999999996\n",
      "    viginere_10 0.12009999999999998\n",
      "    affine 0.9086\n",
      "    random 0.046499999999999986\n",
      "    reccurent 1.0\n",
      "L == 1000\n",
      "    viginere_1 1.0\n",
      "    viginere_5 0.362\n",
      "    viginere_10 0.0\n",
      "    affine 0.9999\n",
      "    random 0.0\n",
      "    reccurent 1.0\n",
      "L == 10000\n",
      "    viginere_1 1.0\n",
      "    viginere_5 0.0\n",
      "    viginere_10 0.0\n",
      "    affine 1.0\n",
      "    random 0.0\n",
      "    reccurent 1.0\n"
     ]
    }
   ],
   "source": [
    "print('L == 10')\n",
    "test_criteria(structure_criteria, text_10_mono)(0.001)\n",
    "\n",
    "print('L == 100')\n",
    "test_criteria(structure_criteria, text_100_mono)(0.025)\n",
    "\n",
    "print('L == 1000')\n",
    "test_criteria(structure_criteria, text_1000_mono)(0.15)\n",
    "\n",
    "print('L == 10000')\n",
    "test_criteria(structure_criteria, text_10000_mono)(0.25)"
   ]
  },
  {
   "cell_type": "markdown",
   "metadata": {},
   "source": [
    "## Distorted bigram"
   ]
  },
  {
   "cell_type": "code",
   "execution_count": 187,
   "metadata": {},
   "outputs": [
    {
     "name": "stdout",
     "output_type": "stream",
     "text": [
      "L == 10\n",
      "    viginere_1 0.6304\n",
      "    viginere_5 0.6037\n",
      "    viginere_10 0.6234\n",
      "    affine 0.6109\n",
      "    random 0.8172\n",
      "    reccurent 0.6094\n",
      "L == 100\n",
      "    viginere_1 0.6399\n",
      "    viginere_5 0.0776\n",
      "    viginere_10 0.0534\n",
      "    affine 0.24839999999999995\n",
      "    random 0.016800000000000037\n",
      "    reccurent 0.19840000000000002\n",
      "L == 1000\n",
      "    viginere_1 0.2997000000000001\n",
      "    viginere_5 0.0\n",
      "    viginere_10 0.0\n",
      "    affine 0.007600000000000051\n",
      "    random 0.0\n",
      "    reccurent 0.062000000000000055\n",
      "L == 10000\n",
      "    viginere_1 0.985\n",
      "    viginere_5 0.0\n",
      "    viginere_10 0.0\n",
      "    affine 0.0050000000000000044\n",
      "    random 0.0\n",
      "    reccurent 1.0\n"
     ]
    }
   ],
   "source": [
    "print('L == 10')\n",
    "test_criteria(structure_criteria, text_10_bi)(0.001)\n",
    "\n",
    "print('L == 100')\n",
    "test_criteria(structure_criteria, text_100_bi)(0.025)\n",
    "\n",
    "print('L == 1000')\n",
    "test_criteria(structure_criteria, text_1000_bi)(0.15)\n",
    "\n",
    "print('L == 10000')\n",
    "test_criteria(structure_criteria, text_10000_bi)(0.25)"
   ]
  },
  {
   "cell_type": "markdown",
   "metadata": {},
   "source": [
    "# Definitely not random text"
   ]
  },
  {
   "cell_type": "code",
   "execution_count": 188,
   "metadata": {},
   "outputs": [
    {
     "name": "stdout",
     "output_type": "stream",
     "text": [
      "    0\n",
      "    0\n"
     ]
    }
   ],
   "source": [
    "text = ''\n",
    "\n",
    "for i in range(10000):\n",
    "\ttext += alphabet_str[i % alphabet_length]\n",
    "\n",
    "print('   ', mono_prohibited_frequencies_2(text, 0.008))\n",
    "print('   ', bi_prohibited_frequencies_2(text, 0.02))"
   ]
  }
 ],
 "metadata": {
  "kernelspec": {
   "display_name": "Python 3.10.7 64-bit",
   "language": "python",
   "name": "python3"
  },
  "language_info": {
   "codemirror_mode": {
    "name": "ipython",
    "version": 3
   },
   "file_extension": ".py",
   "mimetype": "text/x-python",
   "name": "python",
   "nbconvert_exporter": "python",
   "pygments_lexer": "ipython3",
   "version": "3.10.7"
  },
  "orig_nbformat": 4,
  "vscode": {
   "interpreter": {
    "hash": "369f2c481f4da34e4445cda3fffd2e751bd1c4d706f27375911949ba6bb62e1c"
   }
  }
 },
 "nbformat": 4,
 "nbformat_minor": 2
}
