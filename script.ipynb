{
 "cells": [
  {
   "cell_type": "markdown",
   "metadata": {},
   "source": [
    "# Imports"
   ]
  },
  {
   "cell_type": "code",
   "execution_count": 74,
   "metadata": {},
   "outputs": [],
   "source": [
    "import re\n",
    "import numpy as np\n",
    "import math\n",
    "import zlib\n"
   ]
  },
  {
   "cell_type": "markdown",
   "metadata": {},
   "source": [
    "# Read text"
   ]
  },
  {
   "cell_type": "code",
   "execution_count": 75,
   "metadata": {},
   "outputs": [],
   "source": [
    "def read_text(path):\n",
    "    lines = ''\n",
    "\n",
    "    with open(path, 'r', encoding='utf-8') as file:\n",
    "        lines = file.read()\n",
    "\n",
    "    return lines\n",
    "\n",
    "def write_text(path, lines):\n",
    "    with open(path, 'w', encoding='utf-8') as file:\n",
    "        file.write(lines)\n",
    "\n",
    "\n",
    "path = '.\\\\texts\\\\roksolana.txt'\n",
    "# path = '.\\\\texts\\\\tiger_catchers.txt'\n",
    "text = read_text(path).lower()\n",
    "\n",
    "formatted_text = re.sub(u'[^а-яіґєї]|э|ы|ъ', '', text)\n",
    "formatted_text = re.sub(u'ґ', 'г', formatted_text)\n",
    "\n",
    "text_len = len(formatted_text)\n",
    "\n",
    "write_text('.\\\\texts\\\\formatted_text.txt', formatted_text)"
   ]
  },
  {
   "cell_type": "markdown",
   "metadata": {},
   "source": [
    "# Gathering monograms and bigrams statistics"
   ]
  },
  {
   "cell_type": "code",
   "execution_count": 76,
   "metadata": {},
   "outputs": [],
   "source": [
    "alphabet_str = 'абвгдеєжзиіїйклмнопрстуфхцчшщьюя'\n",
    "alphabet_length = len(alphabet_str)\n",
    "\n",
    "alphabet_statistics = {}\n",
    "alphabet_frequencies = {}\n",
    "\n",
    "for letter in alphabet_str:\n",
    "    alphabet_statistics[letter] = 0\n",
    "\n",
    "for letter in formatted_text:\n",
    "    alphabet_statistics[letter] += 1\n",
    "\n",
    "for letter in alphabet_statistics.keys():\n",
    "    alphabet_frequencies[letter] = alphabet_statistics[letter] / text_len\n",
    "\n",
    "monogram_to_number = {}\n",
    "for i in range(alphabet_length):\n",
    "\tmonogram_to_number[alphabet_str[i]] = i\n"
   ]
  },
  {
   "cell_type": "code",
   "execution_count": 77,
   "metadata": {},
   "outputs": [],
   "source": [
    "all_bigrams = []\n",
    "\n",
    "bigrams_statistics = {}\n",
    "bigrams_frequencies = {}\n",
    "\n",
    "for first in alphabet_str:\n",
    "    for second in alphabet_str:\n",
    "        bigram = first + second\n",
    "\n",
    "        all_bigrams.append(bigram)\n",
    "        bigrams_statistics[bigram] = 0\n",
    "        bigrams_frequencies[bigram] = 0\n",
    "\n",
    "for index in range(text_len - 1):\n",
    "    bigrams_statistics[formatted_text[index] + formatted_text[index + 1]] += 1\n",
    "\n",
    "for bigram in bigrams_frequencies.keys():\n",
    "    bigrams_frequencies[bigram] = bigrams_statistics[bigram] / (text_len - 1)\n",
    "\n",
    "all_bigrams_length = len(all_bigrams)\n",
    "\n",
    "bigram_to_number = {}\n",
    "for i in range(all_bigrams_length):\n",
    "\tbigram_to_number[all_bigrams[i]] = i\n"
   ]
  },
  {
   "cell_type": "markdown",
   "metadata": {},
   "source": [
    "## Entropy and Coincidence Index"
   ]
  },
  {
   "cell_type": "code",
   "execution_count": 78,
   "metadata": {},
   "outputs": [],
   "source": [
    "monogram_entropy = -1 * sum([alphabet_frequencies[letter] * np.log2(alphabet_frequencies[letter]) for letter in alphabet_str])\n",
    "bigram_entropy = -0.5 * sum([bigrams_frequencies[bigram] * np.log2(bigrams_frequencies[bigram]) if bigrams_frequencies[bigram] != 0 else 0 for bigram in all_bigrams])\n",
    "\n",
    "coincidence_index = sum([\n",
    "\talphabet_statistics[letter] * (alphabet_statistics[letter] - 1)\n",
    "for letter in alphabet_str]) / text_len / (text_len - 1)\n"
   ]
  },
  {
   "cell_type": "markdown",
   "metadata": {},
   "source": [
    "## Generating texts"
   ]
  },
  {
   "cell_type": "code",
   "execution_count": 79,
   "metadata": {},
   "outputs": [],
   "source": [
    "texts_count = 10000\n",
    "\n",
    "def generate_texts(text_size, texts_count, step):\n",
    "\ttext_array = []\n",
    "\n",
    "\tindex = 0\n",
    "\tfor n in range(texts_count):\n",
    "\t\ttext_array.append(formatted_text[index:(index + text_size)])\n",
    "\t\tindex += step\n",
    "\n",
    "\treturn text_array\n",
    "\n",
    "texts_10 = generate_texts(10, 10000, 10)\n",
    "texts_100 = generate_texts(100, 10000, 100)\n",
    "texts_1000 = generate_texts(1000, 10000, 100)\n",
    "texts_10000 = generate_texts(10000, 1000, 1000)\n"
   ]
  },
  {
   "cell_type": "markdown",
   "metadata": {},
   "source": [
    "# Distortion algorithms"
   ]
  },
  {
   "cell_type": "markdown",
   "metadata": {},
   "source": [
    "## Vigenere cipher"
   ]
  },
  {
   "cell_type": "code",
   "execution_count": 80,
   "metadata": {},
   "outputs": [],
   "source": [
    "def mono_vigenere_cipher(text, key):\n",
    "    key_length = len(key)\n",
    "\n",
    "    ciphered_text = ''\n",
    "    for index in range(len(text)):\n",
    "        key_index = index % key_length\n",
    "        ciphered_text += alphabet_str[(monogram_to_number[text[index]] + key[key_index]) % alphabet_length]\n",
    "\n",
    "    return ciphered_text\n",
    "\n",
    "def bi_vigenere_cipher(text, key):\n",
    "    key_length = len(key)\n",
    "\n",
    "    ciphered_text = ''\n",
    "\n",
    "    for index in range(0, len(text), 2):\n",
    "        key_index = (index // 2) % key_length\n",
    "        ciphered_text += all_bigrams[(bigram_to_number[text[index:index+2]] + key[key_index]) % all_bigrams_length]\n",
    "\n",
    "    return ciphered_text\n"
   ]
  },
  {
   "cell_type": "markdown",
   "metadata": {},
   "source": [
    "## Affine cipher"
   ]
  },
  {
   "cell_type": "code",
   "execution_count": 81,
   "metadata": {},
   "outputs": [],
   "source": [
    "def mono_affine_cipher(text, key):\n",
    "\ta, b = key\n",
    "\tciphered_text = ''\n",
    "\n",
    "\tfor letter in text:\n",
    "\t\tciphered_letter_index = (a * monogram_to_number[letter] + b) % alphabet_length\n",
    "\n",
    "\t\tciphered_text += alphabet_str[ciphered_letter_index]\n",
    "\n",
    "\treturn ciphered_text\n",
    "\n",
    "\n",
    "def bi_affine_cipher(text, key):\n",
    "\ta, b = key\n",
    "\tciphered_text = ''\n",
    "\n",
    "\tfor bigram in re.findall(r'..', text):\n",
    "\t\tciphered_letter_index = (a * bigram_to_number[bigram] + b) % (all_bigrams_length)\n",
    "\n",
    "\t\tciphered_text += all_bigrams[ciphered_letter_index]\n",
    "\n",
    "\treturn ciphered_text\n"
   ]
  },
  {
   "cell_type": "markdown",
   "metadata": {},
   "source": [
    "## Uniform distortion"
   ]
  },
  {
   "cell_type": "code",
   "execution_count": 82,
   "metadata": {},
   "outputs": [],
   "source": [
    "def mono_uniform_distortion(size):\n",
    "    return ''.join([alphabet_str[elem] for elem in np.random.randint(low=0, high=alphabet_length, size=size)])\n",
    "\n",
    "def bi_uniform_distortion(size):\n",
    "    return ''.join([all_bigrams[elem] for elem in np.random.randint(low=0, high=all_bigrams_length, size=size)])\n"
   ]
  },
  {
   "cell_type": "markdown",
   "metadata": {},
   "source": [
    "## Recurrent sequence"
   ]
  },
  {
   "cell_type": "code",
   "execution_count": 83,
   "metadata": {},
   "outputs": [],
   "source": [
    "def generate_random_lgram(high = alphabet_length, size = 1):\n",
    "\treturn np.random.randint(low = 0, high = high, size = size)\n",
    "\n",
    "def mono_recurrent_sequence(size):\n",
    "\ts_0, s_1 = generate_random_lgram(alphabet_length, 2)\n",
    "\trecurrent_sequence = alphabet_str[s_0] + alphabet_str[s_1]\n",
    "\t\n",
    "\tfor i in range(2, size):\n",
    "\t\tprev_letter_index = monogram_to_number[recurrent_sequence[i - 1]]\n",
    "\t\tprev_prev_letter_index = monogram_to_number[recurrent_sequence[i - 2]]\n",
    "\t\tnext_letter_index = (prev_letter_index + prev_prev_letter_index) % alphabet_length\n",
    "\n",
    "\t\trecurrent_sequence += alphabet_str[next_letter_index]\n",
    "\n",
    "\treturn recurrent_sequence\n",
    "\n",
    "def bi_recurrent_sequence(size):\n",
    "\ts_0, s_1 = generate_random_lgram(all_bigrams_length, 2)\n",
    "\trecurrent_sequence = all_bigrams[s_0] + all_bigrams[s_1]\n",
    "\t\n",
    "\tfor i in range(2, size // 2):\n",
    "\t\tprev_letter_index = bigram_to_number[recurrent_sequence[-2:]]\n",
    "\t\tprev_prev_letter_index = bigram_to_number[recurrent_sequence[-4:-2]]\n",
    "\n",
    "\t\tnext_bigram_index = (prev_letter_index + prev_prev_letter_index) % (all_bigrams_length)\n",
    "\n",
    "\t\trecurrent_sequence += all_bigrams[next_bigram_index]\n",
    "\n",
    "\treturn recurrent_sequence\n"
   ]
  },
  {
   "cell_type": "markdown",
   "metadata": {},
   "source": [
    "# Criterias"
   ]
  },
  {
   "cell_type": "code",
   "execution_count": 84,
   "metadata": {},
   "outputs": [],
   "source": [
    "def get_prohibited_grams(grams, quartile):\n",
    "\tentries = grams.items()\n",
    "\treturn dict(sorted(entries, key = lambda tuple: tuple[1], reverse=True)[math.floor(quartile * len(entries)):])\n",
    "\n",
    "prohibited_monograms = get_prohibited_grams(alphabet_statistics, 0.9)\n",
    "prohibited_bigrams = get_prohibited_grams(bigrams_statistics, 0.75)\n"
   ]
  },
  {
   "cell_type": "markdown",
   "metadata": {},
   "source": [
    "### Criteria 1.1 (criteria 1.0 in parameters)"
   ]
  },
  {
   "cell_type": "code",
   "execution_count": 85,
   "metadata": {},
   "outputs": [],
   "source": [
    "def mono_criteria_1_1(text, k_prohibited):\n",
    "    a_ap = set(text)\n",
    "\n",
    "    k_counter = 0\n",
    "\n",
    "    for elem in a_ap:\n",
    "        if elem in list(prohibited_monograms.keys()):\n",
    "            k_counter += 1\n",
    "\n",
    "    if (k_counter >= k_prohibited):\n",
    "        return 0\n",
    "    else:\n",
    "        return 1 \n",
    "\n",
    "def bi_criteria_1_1(text, k_prohibited):\n",
    "    bigrams_text = [text[i] + text[i+1] for i in range(len(text) - 1)]\n",
    "    a_ap = set(bigrams_text)\n",
    "\n",
    "    k_counter = 0\n",
    "\n",
    "    for elem in a_ap:\n",
    "        if elem in list(prohibited_bigrams.keys()):\n",
    "            k_counter += 1\n",
    "\n",
    "    if (k_counter >= k_prohibited):\n",
    "        return 0\n",
    "    else:\n",
    "        return 1\n"
   ]
  },
  {
   "cell_type": "markdown",
   "metadata": {},
   "source": [
    "### Criteria 1.2"
   ]
  },
  {
   "cell_type": "code",
   "execution_count": 86,
   "metadata": {},
   "outputs": [],
   "source": [
    "def mono_prohibited_frequencies_1(text, limit):\n",
    "\ttext_length = len(text)\n",
    "\tprohibited_frequencies = {}\n",
    "\n",
    "\tfor monogram in prohibited_monograms.keys():\n",
    "\t\tprohibited_frequencies[monogram] = 0\n",
    "\n",
    "\tfor letter in text:\n",
    "\t\tif letter in prohibited_monograms.keys():\n",
    "\t\t\tprohibited_frequencies[letter] += 1\n",
    "\n",
    "\tfor monogram in prohibited_frequencies.keys():\n",
    "\t\tprohibited_frequencies[monogram] /= text_length\n",
    "\n",
    "\t\tif (prohibited_frequencies[monogram] >= limit):\n",
    "\t\t\treturn 0\n",
    "\t\t\n",
    "\treturn 1\n",
    "\n",
    "def bi_prohibited_frequencies_1(text, limit):\n",
    "\ttext_length = len(text)\n",
    "\tprohibited_frequencies = {}\n",
    "\n",
    "\tfor bigram in prohibited_bigrams.keys():\n",
    "\t\tprohibited_frequencies[bigram] = 0\n",
    "\n",
    "\tfor i in range(text_length - 1):\n",
    "\t\tbigram = text[i:i + 2]\n",
    "\n",
    "\t\tif bigram in prohibited_bigrams.keys():\n",
    "\t\t\tprohibited_frequencies[bigram] += 1\n",
    "\n",
    "\tfor bigram in prohibited_frequencies.keys():\n",
    "\t\tprohibited_frequencies[bigram] /= (text_length - 1)\n",
    "\n",
    "\t\tif (prohibited_frequencies[bigram] >= limit):\n",
    "\t\t\treturn 0\n",
    "\t\t\n",
    "\treturn 1\n"
   ]
  },
  {
   "cell_type": "markdown",
   "metadata": {},
   "source": [
    "### Criteria 1.3"
   ]
  },
  {
   "cell_type": "code",
   "execution_count": 87,
   "metadata": {},
   "outputs": [
    {
     "name": "stdout",
     "output_type": "stream",
     "text": [
      "1\n",
      "1\n"
     ]
    }
   ],
   "source": [
    "def mono_prohibited_frequencies_2(text, limit):\n",
    "\ttext_length = len(text)\n",
    "\tprohibited_frequencies = {}\n",
    "\n",
    "\tfor monogram in prohibited_monograms.keys():\n",
    "\t\tprohibited_frequencies[monogram] = 0\n",
    "\n",
    "\tfor letter in text:\n",
    "\t\tif letter in prohibited_monograms.keys():\n",
    "\t\t\tprohibited_frequencies[letter] += 1\n",
    "\n",
    "\tfreq_sum = sum(prohibited_frequencies.values()) / text_length\n",
    "\n",
    "\tif freq_sum > limit:\n",
    "\t\treturn 0\n",
    "\t\t\n",
    "\treturn 1\n",
    "\n",
    "def bi_prohibited_frequencies_2(text, limit):\n",
    "\ttext_length = len(text)\n",
    "\tprohibited_frequencies = {}\n",
    "\n",
    "\tfor bigram in prohibited_bigrams.keys():\n",
    "\t\tprohibited_frequencies[bigram] = 0\n",
    "\n",
    "\tfor i in range(text_length - 1):\n",
    "\t\tbigram = text[i:i + 2]\n",
    "\n",
    "\t\tif bigram in prohibited_bigrams.keys():\n",
    "\t\t\tprohibited_frequencies[bigram] += 1\n",
    "\n",
    "\tfreq_sum = sum(prohibited_frequencies.values()) / (text_length - 1)\n",
    "\n",
    "\tif freq_sum > limit:\n",
    "\t\treturn 0\n",
    "\t\t\n",
    "\treturn 1\n",
    "\n",
    "print(mono_prohibited_frequencies_2('вознесіння', 1))\n",
    "print(bi_prohibited_frequencies_2('уцефвікеф', 1))"
   ]
  },
  {
   "cell_type": "markdown",
   "metadata": {},
   "source": [
    "### Criteria 3.0"
   ]
  },
  {
   "cell_type": "code",
   "execution_count": 88,
   "metadata": {},
   "outputs": [],
   "source": [
    "def get_monogram_distribution(text):\n",
    "    text_length = len(text)\n",
    "    stats = {}\n",
    "\n",
    "    for letter in alphabet_str:\n",
    "        stats[letter] = 0\n",
    "    for elem in text:\n",
    "        stats[elem] += 1\n",
    "    for key in stats.keys():\n",
    "        stats[key] /= text_length\n",
    "    return stats\n",
    "\n",
    "def get_bigram_distribution(text):\n",
    "    text_length = len(text)\n",
    "    stats = {}\n",
    "\n",
    "    for bigram in all_bigrams:\n",
    "        stats[bigram] = 0\n",
    "            \n",
    "    for i in range(len(text) - 1):\n",
    "        stats[text[i] + text[i + 1]] += 1\n",
    "\n",
    "    for key in stats.keys():\n",
    "        stats[key] /= (text_length - 1)\n",
    "\n",
    "    return stats\n",
    "\n",
    "def get_specific_entropy(frequencies, l):\n",
    "    specific_entropy = 0\n",
    "\n",
    "    for frequency in frequencies.keys():\n",
    "        if frequencies[frequency] != 0:\n",
    "            specific_entropy -= frequencies[frequency] * np.log2(frequencies[frequency]) / l\n",
    "\n",
    "    return specific_entropy\n",
    "\n",
    "def mono_criteria_3_0(text, limit):\n",
    "    text_specific_entropy = get_specific_entropy(get_monogram_distribution(text), 1)\n",
    "\n",
    "    result = abs(monogram_entropy - text_specific_entropy)\n",
    "\n",
    "    if result > limit:\n",
    "        return 0\n",
    "    else:\n",
    "        return 1\n",
    "\n",
    "def bi_criteria_3_0(text, limit):\n",
    "    text_specific_entropy = get_specific_entropy(get_bigram_distribution(text), 2)\n",
    "\n",
    "    result = abs(bigram_entropy - text_specific_entropy)\n",
    "\n",
    "    if result > limit:\n",
    "        return 0\n",
    "    else:\n",
    "        return 1\n"
   ]
  },
  {
   "cell_type": "markdown",
   "metadata": {},
   "source": [
    "### Criteria 5.0"
   ]
  },
  {
   "cell_type": "code",
   "execution_count": 89,
   "metadata": {},
   "outputs": [],
   "source": [
    "def get_most_common_grams(grams, count):\n",
    "\tentries = grams.items()\n",
    "\tsorted_entries = sorted(entries, key = lambda tuple: tuple[1], reverse=True)[:count]\n",
    "\t\n",
    "\treturn list(map(lambda item: item[0], sorted_entries))\n"
   ]
  },
  {
   "cell_type": "code",
   "execution_count": 90,
   "metadata": {},
   "outputs": [],
   "source": [
    "most_common_monograms = get_most_common_grams(alphabet_statistics, 10)\n",
    "most_common_bigrams_50 = get_most_common_grams(bigrams_statistics, 50)\n",
    "most_common_bigrams_100 = get_most_common_grams(bigrams_statistics, 100)\n",
    "most_common_bigrams_200 = get_most_common_grams(bigrams_statistics, 200)\n",
    "\n",
    "def mono_empty_boxes(text, most_common_monograms, limit):\n",
    "\tmost_common_monograms_in_text = {}\n",
    "\n",
    "\tfor monogram in most_common_monograms:\n",
    "\t\tmost_common_monograms_in_text[monogram] = 0\n",
    "\n",
    "\tfor letter in text:\n",
    "\t\tif letter in most_common_monograms:\n",
    "\t\t\tmost_common_monograms_in_text[letter] += 1\n",
    "\n",
    "\tif len(list(filter(lambda monogram: True if monogram[1] == 0 else False, most_common_monograms_in_text.items()))) > limit:\n",
    "\t\treturn 0\n",
    "\n",
    "\treturn 1\n",
    "\n",
    "def bi_empty_boxes(text, most_common_bigrams, limit):\n",
    "\tmost_common_bigrams_in_text = {}\n",
    "\n",
    "\tfor monogram in most_common_bigrams.key():\n",
    "\t\tmost_common_bigrams_in_text[monogram] = 0\n",
    "\n",
    "\tfor i in range(len(text) - 1):\n",
    "\t\tbigram = text[i:i + 2]\n",
    "\n",
    "\t\tif bigram in most_common_bigrams.keys():\n",
    "\t\t\tmost_common_bigrams_in_text[bigram] += 1\n",
    "\n",
    "\tif len(list(filter(lambda bigram: True if bigram[1] == 0 else False, most_common_bigrams_in_text.items()))) > limit:\n",
    "\t\treturn 0\n",
    "\n",
    "\treturn 1\n"
   ]
  },
  {
   "cell_type": "markdown",
   "metadata": {},
   "source": [
    "### Structure criteria"
   ]
  },
  {
   "cell_type": "code",
   "execution_count": 91,
   "metadata": {},
   "outputs": [],
   "source": [
    "def structure_criteria(text):\n",
    "\ttext_len = len(text)\n",
    "\trandom_text = mono_uniform_distortion(text)\n",
    "\n",
    "\trandom_coef = text_len / len(zlib.compress(random_text.encode('utf-8')))\n",
    "\treal_coef = text_len / len(zlib.compress(text.encode('utf-8')))\n",
    "\n",
    "\tif abs(random_coef - real_coef) < 0.25:\n",
    "\t\treturn 0\n",
    "\n",
    "\treturn 1\n"
   ]
  },
  {
   "cell_type": "markdown",
   "metadata": {},
   "source": [
    "# Distortion texts"
   ]
  },
  {
   "cell_type": "markdown",
   "metadata": {},
   "source": [
    "## Monograms"
   ]
  },
  {
   "cell_type": "code",
   "execution_count": 92,
   "metadata": {},
   "outputs": [
    {
     "name": "stdout",
     "output_type": "stream",
     "text": [
      "finish 10\n",
      "finish 100\n",
      "finish 1000\n",
      "finish 10000\n"
     ]
    }
   ],
   "source": [
    "viginere_key_1 = generate_random_lgram(alphabet_length)\n",
    "viginere_key_5 = generate_random_lgram(alphabet_length, 5)\n",
    "viginere_key_10 = generate_random_lgram(alphabet_length, 10)\n",
    "\n",
    "affine_key = generate_random_lgram(alphabet_length, 2)\n",
    "\n",
    "while affine_key[0] % 2 != 1:\n",
    "\taffine_key = generate_random_lgram(alphabet_length, 2)\n",
    "\n",
    "text_10_mono = {\n",
    "\t'viginere_1': [mono_vigenere_cipher(text, viginere_key_1) for text in texts_10],\n",
    "\t'viginere_5': [mono_vigenere_cipher(text, viginere_key_5) for text in texts_10],\n",
    "\t'viginere_10': [mono_vigenere_cipher(text, viginere_key_10) for text in texts_10],\n",
    "\t'affine': [mono_affine_cipher(text, affine_key) for text in texts_10],\n",
    "\t'random': [mono_uniform_distortion(10) for i in range(len(texts_10))],\n",
    "\t'reccurent': [mono_recurrent_sequence(10) for i in range(len(texts_10))]\n",
    "}\n",
    "\n",
    "print('finish 10')\n",
    "\n",
    "text_100_mono = {\n",
    "\t'viginere_1': [mono_vigenere_cipher(text, viginere_key_1) for text in texts_100],\n",
    "\t'viginere_5': [mono_vigenere_cipher(text, viginere_key_5) for text in texts_100],\n",
    "\t'viginere_10': [mono_vigenere_cipher(text, viginere_key_10) for text in texts_100],\n",
    "\t'affine': [mono_affine_cipher(text, affine_key) for text in texts_100],\n",
    "\t'random': [mono_uniform_distortion(100) for i in range(len(texts_100))],\n",
    "\t'reccurent': [mono_recurrent_sequence(100) for i in range(len(texts_100))]\n",
    "}\n",
    "\n",
    "print('finish 100')\n",
    "\n",
    "text_1000_mono = {\n",
    "\t'viginere_1': [mono_vigenere_cipher(text, viginere_key_1) for text in texts_1000],\n",
    "\t'viginere_5': [mono_vigenere_cipher(text, viginere_key_5) for text in texts_10000],\n",
    "\t'viginere_10': [mono_vigenere_cipher(text, viginere_key_10) for text in texts_1000],\n",
    "\t'affine': [mono_affine_cipher(text, affine_key) for text in texts_1000],\n",
    "\t'random': [mono_uniform_distortion(1000) for i in range(len(texts_1000))],\n",
    "\t'reccurent': [mono_recurrent_sequence(1000) for i in range(len(texts_1000))]\n",
    "}\n",
    "\n",
    "print('finish 1000')\n",
    "\n",
    "text_10000_mono = {\n",
    "\t'viginere_1': [mono_vigenere_cipher(text, viginere_key_1) for text in texts_10000],\n",
    "\t'viginere_5': [mono_vigenere_cipher(text, viginere_key_5) for text in texts_10000],\n",
    "\t'viginere_10': [mono_vigenere_cipher(text, viginere_key_10) for text in texts_10000],\n",
    "\t'affine': [mono_affine_cipher(text, affine_key) for text in texts_10000],\n",
    "\t'random': [mono_uniform_distortion(10000) for i in range(len(texts_10000))],\n",
    "\t'reccurent': [mono_recurrent_sequence(10000) for i in range(len(texts_10000))]\n",
    "}\n",
    "\n",
    "print('finish 10000')"
   ]
  },
  {
   "cell_type": "markdown",
   "metadata": {},
   "source": [
    "## Bigrams"
   ]
  },
  {
   "cell_type": "code",
   "execution_count": 93,
   "metadata": {},
   "outputs": [
    {
     "name": "stdout",
     "output_type": "stream",
     "text": [
      "finish 10\n",
      "finish 100\n",
      "finish 1000\n",
      "finish 10000\n"
     ]
    }
   ],
   "source": [
    "viginere_key_1 = generate_random_lgram(all_bigrams_length)\n",
    "viginere_key_5 = generate_random_lgram(all_bigrams_length, 5)\n",
    "viginere_key_10 = generate_random_lgram(all_bigrams_length, 10)\n",
    "\n",
    "affine_key = generate_random_lgram(all_bigrams_length, 2)\n",
    "\n",
    "while affine_key[0] % 2 != 1:\n",
    "\taffine_key = generate_random_lgram(all_bigrams_length, 2)\n",
    "\n",
    "text_10_bi = {\n",
    "\t'viginere_1': [bi_vigenere_cipher(text, viginere_key_1) for text in texts_10],\n",
    "\t'viginere_5': [bi_vigenere_cipher(text, viginere_key_5) for text in texts_10],\n",
    "\t'viginere_10': [bi_vigenere_cipher(text, viginere_key_10) for text in texts_10],\n",
    "\t'affine': [bi_affine_cipher(text, affine_key) for text in texts_10],\n",
    "\t'random': [bi_uniform_distortion(10) for i in range(len(texts_10))],\n",
    "\t'reccurent': [bi_recurrent_sequence(10) for i in range(len(texts_10))]\n",
    "}\n",
    "\n",
    "text_100_bi = {\n",
    "\t'viginere_1': [bi_vigenere_cipher(text, viginere_key_1) for text in texts_100],\n",
    "\t'viginere_5': [bi_vigenere_cipher(text, viginere_key_5) for text in texts_100],\n",
    "\t'viginere_10': [bi_vigenere_cipher(text, viginere_key_10) for text in texts_100],\n",
    "\t'affine': [bi_affine_cipher(text, affine_key) for text in texts_100],\n",
    "\t'random': [bi_uniform_distortion(100) for i in range(len(texts_100))],\n",
    "\t'reccurent': [bi_recurrent_sequence(100) for i in range(len(texts_100))]\n",
    "}\n",
    "\n",
    "text_1000_bi = {\n",
    "\t'viginere_1': [bi_vigenere_cipher(text, viginere_key_1) for text in texts_1000],\n",
    "\t'viginere_5': [bi_vigenere_cipher(text, viginere_key_5) for text in texts_1000],\n",
    "\t'viginere_10': [bi_vigenere_cipher(text, viginere_key_10) for text in texts_1000],\n",
    "\t'affine': [bi_affine_cipher(text, affine_key) for text in texts_1000],\n",
    "\t'random': [bi_uniform_distortion(1000) for i in range(len(texts_1000))],\n",
    "\t'reccurent': [bi_recurrent_sequence(1000) for i in range(len(texts_1000))]\n",
    "}\n",
    "\n",
    "text_10000_bi = {\n",
    "\t'viginere_1': [bi_vigenere_cipher(text, viginere_key_1) for text in texts_10000],\n",
    "\t'viginere_5': [bi_vigenere_cipher(text, viginere_key_5) for text in texts_10000],\n",
    "\t'viginere_10': [bi_vigenere_cipher(text, viginere_key_10) for text in texts_10000],\n",
    "\t'affine': [bi_affine_cipher(text, affine_key) for text in texts_10000],\n",
    "\t'random': [bi_uniform_distortion(10000) for i in range(len(texts_10000))],\n",
    "\t'reccurent': [bi_recurrent_sequence(10000) for i in range(len(texts_10000))]\n",
    "}\n"
   ]
  },
  {
   "cell_type": "markdown",
   "metadata": {},
   "source": [
    "# Criteria 1.0"
   ]
  },
  {
   "cell_type": "markdown",
   "metadata": {},
   "source": [
    "## Monogram"
   ]
  },
  {
   "cell_type": "markdown",
   "metadata": {},
   "source": [
    "### L = 10"
   ]
  },
  {
   "cell_type": "code",
   "execution_count": null,
   "metadata": {},
   "outputs": [],
   "source": []
  },
  {
   "cell_type": "markdown",
   "metadata": {},
   "source": [
    "### L = 100"
   ]
  },
  {
   "cell_type": "code",
   "execution_count": null,
   "metadata": {},
   "outputs": [],
   "source": []
  },
  {
   "cell_type": "markdown",
   "metadata": {},
   "source": [
    "### L = 1000"
   ]
  },
  {
   "cell_type": "code",
   "execution_count": null,
   "metadata": {},
   "outputs": [],
   "source": []
  },
  {
   "cell_type": "markdown",
   "metadata": {},
   "source": [
    "### L = 10000"
   ]
  },
  {
   "cell_type": "code",
   "execution_count": null,
   "metadata": {},
   "outputs": [],
   "source": []
  },
  {
   "cell_type": "markdown",
   "metadata": {},
   "source": [
    "## Bigram"
   ]
  },
  {
   "cell_type": "markdown",
   "metadata": {},
   "source": [
    "### L = 10"
   ]
  },
  {
   "cell_type": "code",
   "execution_count": null,
   "metadata": {},
   "outputs": [],
   "source": []
  },
  {
   "cell_type": "markdown",
   "metadata": {},
   "source": [
    "### L = 100"
   ]
  },
  {
   "cell_type": "code",
   "execution_count": null,
   "metadata": {},
   "outputs": [],
   "source": []
  },
  {
   "cell_type": "markdown",
   "metadata": {},
   "source": [
    "### L = 1000"
   ]
  },
  {
   "cell_type": "code",
   "execution_count": null,
   "metadata": {},
   "outputs": [],
   "source": []
  },
  {
   "cell_type": "markdown",
   "metadata": {},
   "source": [
    "### L = 10000"
   ]
  },
  {
   "cell_type": "code",
   "execution_count": null,
   "metadata": {},
   "outputs": [],
   "source": []
  },
  {
   "cell_type": "markdown",
   "metadata": {},
   "source": [
    "# Criteria 1.1"
   ]
  },
  {
   "cell_type": "markdown",
   "metadata": {},
   "source": [
    "## Monogram"
   ]
  },
  {
   "cell_type": "markdown",
   "metadata": {},
   "source": [
    "### L = 10"
   ]
  },
  {
   "cell_type": "code",
   "execution_count": null,
   "metadata": {},
   "outputs": [],
   "source": []
  },
  {
   "cell_type": "markdown",
   "metadata": {},
   "source": [
    "### L = 100"
   ]
  },
  {
   "cell_type": "code",
   "execution_count": null,
   "metadata": {},
   "outputs": [],
   "source": []
  },
  {
   "cell_type": "markdown",
   "metadata": {},
   "source": [
    "### L = 1000"
   ]
  },
  {
   "cell_type": "code",
   "execution_count": null,
   "metadata": {},
   "outputs": [],
   "source": []
  },
  {
   "cell_type": "markdown",
   "metadata": {},
   "source": [
    "### L = 10000"
   ]
  },
  {
   "cell_type": "code",
   "execution_count": null,
   "metadata": {},
   "outputs": [],
   "source": []
  },
  {
   "cell_type": "markdown",
   "metadata": {},
   "source": [
    "## Bigram"
   ]
  },
  {
   "cell_type": "markdown",
   "metadata": {},
   "source": [
    "### L = 10"
   ]
  },
  {
   "cell_type": "code",
   "execution_count": null,
   "metadata": {},
   "outputs": [],
   "source": []
  },
  {
   "cell_type": "markdown",
   "metadata": {},
   "source": [
    "### L = 100"
   ]
  },
  {
   "cell_type": "code",
   "execution_count": null,
   "metadata": {},
   "outputs": [],
   "source": []
  },
  {
   "cell_type": "markdown",
   "metadata": {},
   "source": [
    "### L = 1000"
   ]
  },
  {
   "cell_type": "code",
   "execution_count": null,
   "metadata": {},
   "outputs": [],
   "source": []
  },
  {
   "cell_type": "markdown",
   "metadata": {},
   "source": [
    "### L = 10000"
   ]
  },
  {
   "cell_type": "code",
   "execution_count": null,
   "metadata": {},
   "outputs": [],
   "source": []
  },
  {
   "cell_type": "markdown",
   "metadata": {},
   "source": [
    "# Criteria 1.2"
   ]
  },
  {
   "cell_type": "markdown",
   "metadata": {},
   "source": [
    "## Monogram"
   ]
  },
  {
   "cell_type": "markdown",
   "metadata": {},
   "source": [
    "### L = 10"
   ]
  },
  {
   "cell_type": "code",
   "execution_count": null,
   "metadata": {},
   "outputs": [],
   "source": []
  },
  {
   "cell_type": "markdown",
   "metadata": {},
   "source": [
    "### L = 100"
   ]
  },
  {
   "cell_type": "code",
   "execution_count": null,
   "metadata": {},
   "outputs": [],
   "source": []
  },
  {
   "cell_type": "markdown",
   "metadata": {},
   "source": [
    "### L = 1000"
   ]
  },
  {
   "cell_type": "code",
   "execution_count": null,
   "metadata": {},
   "outputs": [],
   "source": []
  },
  {
   "cell_type": "markdown",
   "metadata": {},
   "source": [
    "### L = 10000"
   ]
  },
  {
   "cell_type": "code",
   "execution_count": null,
   "metadata": {},
   "outputs": [],
   "source": []
  },
  {
   "cell_type": "markdown",
   "metadata": {},
   "source": [
    "## Bigram"
   ]
  },
  {
   "cell_type": "markdown",
   "metadata": {},
   "source": [
    "### L = 10"
   ]
  },
  {
   "cell_type": "code",
   "execution_count": null,
   "metadata": {},
   "outputs": [],
   "source": []
  },
  {
   "cell_type": "markdown",
   "metadata": {},
   "source": [
    "### L = 100"
   ]
  },
  {
   "cell_type": "code",
   "execution_count": null,
   "metadata": {},
   "outputs": [],
   "source": []
  },
  {
   "cell_type": "markdown",
   "metadata": {},
   "source": [
    "### L = 1000"
   ]
  },
  {
   "cell_type": "code",
   "execution_count": null,
   "metadata": {},
   "outputs": [],
   "source": []
  },
  {
   "cell_type": "markdown",
   "metadata": {},
   "source": [
    "### L = 10000"
   ]
  },
  {
   "cell_type": "code",
   "execution_count": null,
   "metadata": {},
   "outputs": [],
   "source": []
  },
  {
   "cell_type": "markdown",
   "metadata": {},
   "source": [
    "# Criteria 1.3"
   ]
  },
  {
   "cell_type": "markdown",
   "metadata": {},
   "source": [
    "## Monogram"
   ]
  },
  {
   "cell_type": "markdown",
   "metadata": {},
   "source": [
    "### L = 10"
   ]
  },
  {
   "cell_type": "code",
   "execution_count": null,
   "metadata": {},
   "outputs": [],
   "source": []
  },
  {
   "cell_type": "markdown",
   "metadata": {},
   "source": [
    "### L = 100"
   ]
  },
  {
   "cell_type": "code",
   "execution_count": null,
   "metadata": {},
   "outputs": [],
   "source": []
  },
  {
   "cell_type": "markdown",
   "metadata": {},
   "source": [
    "### L = 1000"
   ]
  },
  {
   "cell_type": "code",
   "execution_count": null,
   "metadata": {},
   "outputs": [],
   "source": []
  },
  {
   "cell_type": "markdown",
   "metadata": {},
   "source": [
    "### L = 10000"
   ]
  },
  {
   "cell_type": "code",
   "execution_count": null,
   "metadata": {},
   "outputs": [],
   "source": []
  },
  {
   "cell_type": "markdown",
   "metadata": {},
   "source": [
    "## Bigram"
   ]
  },
  {
   "cell_type": "markdown",
   "metadata": {},
   "source": [
    "### L = 10"
   ]
  },
  {
   "cell_type": "code",
   "execution_count": null,
   "metadata": {},
   "outputs": [],
   "source": []
  },
  {
   "cell_type": "markdown",
   "metadata": {},
   "source": [
    "### L = 100"
   ]
  },
  {
   "cell_type": "code",
   "execution_count": null,
   "metadata": {},
   "outputs": [],
   "source": []
  },
  {
   "cell_type": "markdown",
   "metadata": {},
   "source": [
    "### L = 1000"
   ]
  },
  {
   "cell_type": "code",
   "execution_count": null,
   "metadata": {},
   "outputs": [],
   "source": []
  },
  {
   "cell_type": "markdown",
   "metadata": {},
   "source": [
    "### L = 10000"
   ]
  },
  {
   "cell_type": "code",
   "execution_count": null,
   "metadata": {},
   "outputs": [],
   "source": []
  },
  {
   "cell_type": "markdown",
   "metadata": {},
   "source": [
    "# Criteria 3.0"
   ]
  },
  {
   "cell_type": "markdown",
   "metadata": {},
   "source": [
    "## Monogram"
   ]
  },
  {
   "cell_type": "markdown",
   "metadata": {},
   "source": [
    "### L = 10"
   ]
  },
  {
   "cell_type": "code",
   "execution_count": null,
   "metadata": {},
   "outputs": [],
   "source": []
  },
  {
   "cell_type": "markdown",
   "metadata": {},
   "source": [
    "### L = 100"
   ]
  },
  {
   "cell_type": "code",
   "execution_count": null,
   "metadata": {},
   "outputs": [],
   "source": []
  },
  {
   "cell_type": "markdown",
   "metadata": {},
   "source": [
    "### L = 1000"
   ]
  },
  {
   "cell_type": "code",
   "execution_count": null,
   "metadata": {},
   "outputs": [],
   "source": []
  },
  {
   "cell_type": "markdown",
   "metadata": {},
   "source": [
    "### L = 10000"
   ]
  },
  {
   "cell_type": "code",
   "execution_count": null,
   "metadata": {},
   "outputs": [],
   "source": []
  },
  {
   "cell_type": "markdown",
   "metadata": {},
   "source": [
    "## Bigram"
   ]
  },
  {
   "cell_type": "markdown",
   "metadata": {},
   "source": [
    "### L = 10"
   ]
  },
  {
   "cell_type": "code",
   "execution_count": null,
   "metadata": {},
   "outputs": [],
   "source": []
  },
  {
   "cell_type": "markdown",
   "metadata": {},
   "source": [
    "### L = 100"
   ]
  },
  {
   "cell_type": "code",
   "execution_count": null,
   "metadata": {},
   "outputs": [],
   "source": []
  },
  {
   "cell_type": "markdown",
   "metadata": {},
   "source": [
    "### L = 1000"
   ]
  },
  {
   "cell_type": "code",
   "execution_count": null,
   "metadata": {},
   "outputs": [],
   "source": []
  },
  {
   "cell_type": "markdown",
   "metadata": {},
   "source": [
    "### L = 10000"
   ]
  },
  {
   "cell_type": "code",
   "execution_count": null,
   "metadata": {},
   "outputs": [],
   "source": []
  },
  {
   "cell_type": "markdown",
   "metadata": {},
   "source": [
    "# Criteria 5.1"
   ]
  },
  {
   "cell_type": "markdown",
   "metadata": {},
   "source": [
    "## Monogram"
   ]
  },
  {
   "cell_type": "markdown",
   "metadata": {},
   "source": [
    "### L = 10"
   ]
  },
  {
   "cell_type": "code",
   "execution_count": null,
   "metadata": {},
   "outputs": [],
   "source": []
  },
  {
   "cell_type": "markdown",
   "metadata": {},
   "source": [
    "### L = 100"
   ]
  },
  {
   "cell_type": "code",
   "execution_count": null,
   "metadata": {},
   "outputs": [],
   "source": []
  },
  {
   "cell_type": "markdown",
   "metadata": {},
   "source": [
    "### L = 1000"
   ]
  },
  {
   "cell_type": "code",
   "execution_count": null,
   "metadata": {},
   "outputs": [],
   "source": []
  },
  {
   "cell_type": "markdown",
   "metadata": {},
   "source": [
    "### L = 10000"
   ]
  },
  {
   "cell_type": "code",
   "execution_count": null,
   "metadata": {},
   "outputs": [],
   "source": []
  },
  {
   "cell_type": "markdown",
   "metadata": {},
   "source": [
    "## Bigram"
   ]
  },
  {
   "cell_type": "markdown",
   "metadata": {},
   "source": [
    "### L = 10"
   ]
  },
  {
   "cell_type": "code",
   "execution_count": null,
   "metadata": {},
   "outputs": [],
   "source": []
  },
  {
   "cell_type": "markdown",
   "metadata": {},
   "source": [
    "### L = 100"
   ]
  },
  {
   "cell_type": "code",
   "execution_count": null,
   "metadata": {},
   "outputs": [],
   "source": []
  },
  {
   "cell_type": "markdown",
   "metadata": {},
   "source": [
    "### L = 1000"
   ]
  },
  {
   "cell_type": "code",
   "execution_count": null,
   "metadata": {},
   "outputs": [],
   "source": []
  },
  {
   "cell_type": "markdown",
   "metadata": {},
   "source": [
    "### L = 10000"
   ]
  },
  {
   "cell_type": "code",
   "execution_count": null,
   "metadata": {},
   "outputs": [],
   "source": []
  },
  {
   "cell_type": "markdown",
   "metadata": {},
   "source": [
    "# Criteria ?.?"
   ]
  },
  {
   "cell_type": "markdown",
   "metadata": {},
   "source": [
    "## Monogram"
   ]
  },
  {
   "cell_type": "markdown",
   "metadata": {},
   "source": [
    "### L = 10"
   ]
  },
  {
   "cell_type": "code",
   "execution_count": null,
   "metadata": {},
   "outputs": [],
   "source": []
  },
  {
   "cell_type": "markdown",
   "metadata": {},
   "source": [
    "### L = 100"
   ]
  },
  {
   "cell_type": "code",
   "execution_count": null,
   "metadata": {},
   "outputs": [],
   "source": []
  },
  {
   "cell_type": "markdown",
   "metadata": {},
   "source": [
    "### L = 1000"
   ]
  },
  {
   "cell_type": "code",
   "execution_count": null,
   "metadata": {},
   "outputs": [],
   "source": []
  },
  {
   "cell_type": "markdown",
   "metadata": {},
   "source": [
    "### L = 10000"
   ]
  },
  {
   "cell_type": "code",
   "execution_count": null,
   "metadata": {},
   "outputs": [],
   "source": []
  },
  {
   "cell_type": "markdown",
   "metadata": {},
   "source": [
    "## Bigram"
   ]
  },
  {
   "cell_type": "markdown",
   "metadata": {},
   "source": [
    "### L = 10"
   ]
  },
  {
   "cell_type": "code",
   "execution_count": null,
   "metadata": {},
   "outputs": [],
   "source": []
  },
  {
   "cell_type": "markdown",
   "metadata": {},
   "source": [
    "### L = 100"
   ]
  },
  {
   "cell_type": "code",
   "execution_count": null,
   "metadata": {},
   "outputs": [],
   "source": []
  },
  {
   "cell_type": "markdown",
   "metadata": {},
   "source": [
    "### L = 1000"
   ]
  },
  {
   "cell_type": "code",
   "execution_count": null,
   "metadata": {},
   "outputs": [],
   "source": []
  },
  {
   "cell_type": "markdown",
   "metadata": {},
   "source": [
    "### L = 10000"
   ]
  },
  {
   "cell_type": "code",
   "execution_count": null,
   "metadata": {},
   "outputs": [],
   "source": []
  },
  {
   "cell_type": "markdown",
   "metadata": {},
   "source": [
    "# Criteria 1.0"
   ]
  },
  {
   "cell_type": "markdown",
   "metadata": {},
   "source": [
    "## Monogram"
   ]
  },
  {
   "cell_type": "markdown",
   "metadata": {},
   "source": [
    "### L = 10"
   ]
  },
  {
   "cell_type": "code",
   "execution_count": null,
   "metadata": {},
   "outputs": [],
   "source": []
  },
  {
   "cell_type": "markdown",
   "metadata": {},
   "source": [
    "### L = 100"
   ]
  },
  {
   "cell_type": "code",
   "execution_count": null,
   "metadata": {},
   "outputs": [],
   "source": []
  },
  {
   "cell_type": "markdown",
   "metadata": {},
   "source": [
    "### L = 1000"
   ]
  },
  {
   "cell_type": "code",
   "execution_count": null,
   "metadata": {},
   "outputs": [],
   "source": []
  },
  {
   "cell_type": "markdown",
   "metadata": {},
   "source": [
    "### L = 10000"
   ]
  },
  {
   "cell_type": "code",
   "execution_count": null,
   "metadata": {},
   "outputs": [],
   "source": []
  },
  {
   "cell_type": "markdown",
   "metadata": {},
   "source": [
    "## Bigram"
   ]
  },
  {
   "cell_type": "markdown",
   "metadata": {},
   "source": [
    "### L = 10"
   ]
  },
  {
   "cell_type": "code",
   "execution_count": null,
   "metadata": {},
   "outputs": [],
   "source": []
  },
  {
   "cell_type": "markdown",
   "metadata": {},
   "source": [
    "### L = 100"
   ]
  },
  {
   "cell_type": "code",
   "execution_count": null,
   "metadata": {},
   "outputs": [],
   "source": []
  },
  {
   "cell_type": "markdown",
   "metadata": {},
   "source": [
    "### L = 1000"
   ]
  },
  {
   "cell_type": "code",
   "execution_count": null,
   "metadata": {},
   "outputs": [],
   "source": []
  },
  {
   "cell_type": "markdown",
   "metadata": {},
   "source": [
    "### L = 10000"
   ]
  },
  {
   "cell_type": "code",
   "execution_count": null,
   "metadata": {},
   "outputs": [],
   "source": []
  }
 ],
 "metadata": {
  "kernelspec": {
   "display_name": "Python 3.10.7 64-bit",
   "language": "python",
   "name": "python3"
  },
  "language_info": {
   "codemirror_mode": {
    "name": "ipython",
    "version": 3
   },
   "file_extension": ".py",
   "mimetype": "text/x-python",
   "name": "python",
   "nbconvert_exporter": "python",
   "pygments_lexer": "ipython3",
   "version": "3.10.7"
  },
  "orig_nbformat": 4,
  "vscode": {
   "interpreter": {
    "hash": "369f2c481f4da34e4445cda3fffd2e751bd1c4d706f27375911949ba6bb62e1c"
   }
  }
 },
 "nbformat": 4,
 "nbformat_minor": 2
}
