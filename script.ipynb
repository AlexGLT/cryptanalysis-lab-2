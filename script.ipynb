{
 "cells": [
  {
   "cell_type": "markdown",
   "metadata": {},
   "source": [
    "# Imports"
   ]
  },
  {
   "cell_type": "code",
   "execution_count": 1,
   "metadata": {},
   "outputs": [],
   "source": [
    "import re\n",
    "import numpy as np\n",
    "import math\n",
    "import zlib\n"
   ]
  },
  {
   "cell_type": "markdown",
   "metadata": {},
   "source": [
    "# Read text"
   ]
  },
  {
   "cell_type": "code",
   "execution_count": 2,
   "metadata": {},
   "outputs": [],
   "source": [
    "def read_text(path):\n",
    "    lines = ''\n",
    "\n",
    "    with open(path, 'r', encoding='utf-8') as file:\n",
    "        lines = file.read()\n",
    "\n",
    "    return lines\n",
    "\n",
    "def write_text(path, lines):\n",
    "    with open(path, 'w', encoding='utf-8') as file:\n",
    "        file.write(lines)\n",
    "\n",
    "\n",
    "path = '.\\\\texts\\\\roksolana.txt'\n",
    "# path = '.\\\\texts\\\\tiger_catchers.txt'\n",
    "text = read_text(path).lower()\n",
    "\n",
    "formatted_text = re.sub(u'[^а-яіґєї]|э|ы|ъ', '', text)\n",
    "formatted_text = re.sub(u'ґ', 'г', formatted_text)\n",
    "\n",
    "text_len = len(formatted_text)\n",
    "\n",
    "write_text('.\\\\texts\\\\formatted_text.txt', formatted_text)"
   ]
  },
  {
   "cell_type": "markdown",
   "metadata": {},
   "source": [
    "# Gathering monograms and bigrams statistics"
   ]
  },
  {
   "cell_type": "code",
   "execution_count": 3,
   "metadata": {},
   "outputs": [],
   "source": [
    "alphabet_str = 'абвгдеєжзиіїйклмнопрстуфхцчшщьюя'\n",
    "alphabet_length = len(alphabet_str)\n",
    "\n",
    "alphabet_statistics = {}\n",
    "alphabet_frequencies = {}\n",
    "\n",
    "for letter in alphabet_str:\n",
    "    alphabet_statistics[letter] = 0\n",
    "\n",
    "for letter in formatted_text:\n",
    "    alphabet_statistics[letter] += 1\n",
    "\n",
    "for letter in alphabet_statistics.keys():\n",
    "    alphabet_frequencies[letter] = alphabet_statistics[letter] / text_len\n",
    "\n",
    "monogram_to_number = {}\n",
    "for i in range(alphabet_length):\n",
    "\tmonogram_to_number[alphabet_str[i]] = i\n"
   ]
  },
  {
   "cell_type": "code",
   "execution_count": 4,
   "metadata": {},
   "outputs": [],
   "source": [
    "all_bigrams = []\n",
    "\n",
    "bigrams_statistics = {}\n",
    "bigrams_frequencies = {}\n",
    "\n",
    "for first in alphabet_str:\n",
    "    for second in alphabet_str:\n",
    "        bigram = first + second\n",
    "\n",
    "        all_bigrams.append(bigram)\n",
    "        bigrams_statistics[bigram] = 0\n",
    "        bigrams_frequencies[bigram] = 0\n",
    "\n",
    "for index in range(text_len - 1):\n",
    "    bigrams_statistics[formatted_text[index] + formatted_text[index + 1]] += 1\n",
    "\n",
    "for bigram in bigrams_frequencies.keys():\n",
    "    bigrams_frequencies[bigram] = bigrams_statistics[bigram] / (text_len - 1)\n",
    "\n",
    "all_bigrams_length = len(all_bigrams)\n",
    "\n",
    "bigram_to_number = {}\n",
    "for i in range(all_bigrams_length):\n",
    "\tbigram_to_number[all_bigrams[i]] = i\n"
   ]
  },
  {
   "cell_type": "markdown",
   "metadata": {},
   "source": [
    "## Entropy and Coincidence Index"
   ]
  },
  {
   "cell_type": "code",
   "execution_count": 5,
   "metadata": {},
   "outputs": [],
   "source": [
    "monogram_entropy = -1 * sum([alphabet_frequencies[letter] * np.log2(alphabet_frequencies[letter]) for letter in alphabet_str])\n",
    "bigram_entropy = -0.5 * sum([bigrams_frequencies[bigram] * np.log2(bigrams_frequencies[bigram]) if bigrams_frequencies[bigram] != 0 else 0 for bigram in all_bigrams])\n",
    "\n",
    "coincidence_index = sum([\n",
    "\talphabet_statistics[letter] * (alphabet_statistics[letter] - 1)\n",
    "for letter in alphabet_str]) / text_len / (text_len - 1)\n"
   ]
  },
  {
   "cell_type": "markdown",
   "metadata": {},
   "source": [
    "## Generating texts"
   ]
  },
  {
   "cell_type": "code",
   "execution_count": 6,
   "metadata": {},
   "outputs": [],
   "source": [
    "texts_count = 10000\n",
    "\n",
    "def generate_texts(text_size, texts_count, step):\n",
    "\ttext_array = []\n",
    "\n",
    "\tindex = 0\n",
    "\tfor n in range(texts_count):\n",
    "\t\ttext_array.append(formatted_text[index:(index + text_size)])\n",
    "\t\tindex += step\n",
    "\n",
    "\treturn text_array\n",
    "\n",
    "texts_10 = generate_texts(10, 10000, 10)\n",
    "texts_100 = generate_texts(100, 10000, 100)\n",
    "texts_1000 = generate_texts(1000, 10000, 100)\n",
    "texts_10000 = generate_texts(10000, 1000, 1000)\n"
   ]
  },
  {
   "cell_type": "markdown",
   "metadata": {},
   "source": [
    "# Distortion algorithms"
   ]
  },
  {
   "cell_type": "markdown",
   "metadata": {},
   "source": [
    "## Vigenere cipher"
   ]
  },
  {
   "cell_type": "code",
   "execution_count": 7,
   "metadata": {},
   "outputs": [],
   "source": [
    "def mono_vigenere_cipher(text, key):\n",
    "    key_length = len(key)\n",
    "\n",
    "    ciphered_text = ''\n",
    "    for index in range(len(text)):\n",
    "        key_index = index % key_length\n",
    "        ciphered_text += alphabet_str[(monogram_to_number[text[index]] + key[key_index]) % alphabet_length]\n",
    "\n",
    "    return ciphered_text\n",
    "\n",
    "def bi_vigenere_cipher(text, key):\n",
    "    key_length = len(key)\n",
    "\n",
    "    ciphered_text = ''\n",
    "\n",
    "    for index in range(0, len(text), 2):\n",
    "        key_index = (index // 2) % key_length\n",
    "        ciphered_text += all_bigrams[(bigram_to_number[text[index:index+2]] + key[key_index]) % all_bigrams_length]\n",
    "\n",
    "    return ciphered_text\n"
   ]
  },
  {
   "cell_type": "markdown",
   "metadata": {},
   "source": [
    "## Affine cipher"
   ]
  },
  {
   "cell_type": "code",
   "execution_count": 8,
   "metadata": {},
   "outputs": [],
   "source": [
    "def mono_affine_cipher(text, key):\n",
    "\ta, b = key\n",
    "\tciphered_text = ''\n",
    "\n",
    "\tfor letter in text:\n",
    "\t\tciphered_letter_index = (a * monogram_to_number[letter] + b) % alphabet_length\n",
    "\n",
    "\t\tciphered_text += alphabet_str[ciphered_letter_index]\n",
    "\n",
    "\treturn ciphered_text\n",
    "\n",
    "\n",
    "def bi_affine_cipher(text, key):\n",
    "\ta, b = key\n",
    "\tciphered_text = ''\n",
    "\n",
    "\tfor bigram in re.findall(r'..', text):\n",
    "\t\tciphered_letter_index = (a * bigram_to_number[bigram] + b) % (all_bigrams_length)\n",
    "\n",
    "\t\tciphered_text += all_bigrams[ciphered_letter_index]\n",
    "\n",
    "\treturn ciphered_text\n"
   ]
  },
  {
   "cell_type": "markdown",
   "metadata": {},
   "source": [
    "## Uniform distortion"
   ]
  },
  {
   "cell_type": "code",
   "execution_count": 9,
   "metadata": {},
   "outputs": [],
   "source": [
    "def mono_uniform_distortion(size):\n",
    "    return ''.join([alphabet_str[elem] for elem in np.random.randint(low=0, high=alphabet_length, size=size)])\n",
    "\n",
    "def bi_uniform_distortion(size):\n",
    "    return ''.join([all_bigrams[elem] for elem in np.random.randint(low=0, high=all_bigrams_length, size=size)])\n"
   ]
  },
  {
   "cell_type": "markdown",
   "metadata": {},
   "source": [
    "## Recurrent sequence"
   ]
  },
  {
   "cell_type": "code",
   "execution_count": 10,
   "metadata": {},
   "outputs": [],
   "source": [
    "def generate_random_lgram(high = alphabet_length, size = 1):\n",
    "\treturn np.random.randint(low = 0, high = high, size = size)\n",
    "\n",
    "def mono_recurrent_sequence(size):\n",
    "\ts_0, s_1 = generate_random_lgram(alphabet_length, 2)\n",
    "\trecurrent_sequence = alphabet_str[s_0] + alphabet_str[s_1]\n",
    "\t\n",
    "\tfor i in range(2, size):\n",
    "\t\tprev_letter_index = monogram_to_number[recurrent_sequence[i - 1]]\n",
    "\t\tprev_prev_letter_index = monogram_to_number[recurrent_sequence[i - 2]]\n",
    "\t\tnext_letter_index = (prev_letter_index + prev_prev_letter_index) % alphabet_length\n",
    "\n",
    "\t\trecurrent_sequence += alphabet_str[next_letter_index]\n",
    "\n",
    "\treturn recurrent_sequence\n",
    "\n",
    "def bi_recurrent_sequence(size):\n",
    "\ts_0, s_1 = generate_random_lgram(all_bigrams_length, 2)\n",
    "\trecurrent_sequence = all_bigrams[s_0] + all_bigrams[s_1]\n",
    "\t\n",
    "\tfor i in range(2, size // 2):\n",
    "\t\tprev_letter_index = bigram_to_number[recurrent_sequence[-2:]]\n",
    "\t\tprev_prev_letter_index = bigram_to_number[recurrent_sequence[-4:-2]]\n",
    "\n",
    "\t\tnext_bigram_index = (prev_letter_index + prev_prev_letter_index) % (all_bigrams_length)\n",
    "\n",
    "\t\trecurrent_sequence += all_bigrams[next_bigram_index]\n",
    "\n",
    "\treturn recurrent_sequence\n"
   ]
  },
  {
   "cell_type": "markdown",
   "metadata": {},
   "source": [
    "# Criterias"
   ]
  },
  {
   "cell_type": "code",
   "execution_count": 11,
   "metadata": {},
   "outputs": [],
   "source": [
    "def get_prohibited_grams(grams, quartile):\n",
    "\tentries = grams.items()\n",
    "\treturn dict(sorted(entries, key = lambda tuple: tuple[1], reverse=True)[math.floor(quartile * len(entries)):])\n",
    "\n",
    "prohibited_monograms = get_prohibited_grams(alphabet_statistics, 0.9)\n",
    "prohibited_monograms_keys = list(prohibited_monograms.keys())\n",
    "\n",
    "prohibited_bigrams = get_prohibited_grams(bigrams_statistics, 0.75)\n",
    "prohibited_bigrams_keys = list(prohibited_bigrams.keys())\n"
   ]
  },
  {
   "cell_type": "markdown",
   "metadata": {},
   "source": [
    "### Criteria 1.1 (criteria 1.0 in parameters)"
   ]
  },
  {
   "cell_type": "code",
   "execution_count": 12,
   "metadata": {},
   "outputs": [],
   "source": [
    "def mono_criteria_1_1(text, k_prohibited = 1):\n",
    "    a_ap = set(text)\n",
    "\n",
    "    k_counter = 0\n",
    "\n",
    "    for elem in a_ap:\n",
    "        if elem in prohibited_monograms_keys:\n",
    "            k_counter += 1\n",
    "\n",
    "    if (k_counter >= k_prohibited):\n",
    "        return 0\n",
    "    else:\n",
    "        return 1 \n",
    "\n",
    "def bi_criteria_1_1(text, k_prohibited = 1):\n",
    "    bigrams_text = [text[i:i+2] for i in range(len(text) - 1)]\n",
    "    a_ap = set(bigrams_text)\n",
    "\n",
    "    k_counter = 0\n",
    "\n",
    "    for elem in a_ap:\n",
    "        if elem in prohibited_bigrams_keys:\n",
    "            k_counter += 1\n",
    "\n",
    "    if (k_counter >= k_prohibited):\n",
    "        return 0\n",
    "    else:\n",
    "        return 1\n"
   ]
  },
  {
   "cell_type": "markdown",
   "metadata": {},
   "source": [
    "### Criteria 1.2"
   ]
  },
  {
   "cell_type": "code",
   "execution_count": 13,
   "metadata": {},
   "outputs": [],
   "source": [
    "def mono_prohibited_frequencies_1(text, limit):\n",
    "\ttext_length = len(text)\n",
    "\tprohibited_frequencies = {}\n",
    "\n",
    "\tfor monogram in prohibited_monograms_keys:\n",
    "\t\tprohibited_frequencies[monogram] = 0\n",
    "\n",
    "\tfor letter in text:\n",
    "\t\tif letter in prohibited_monograms_keys:\n",
    "\t\t\tprohibited_frequencies[letter] += 1\n",
    "\n",
    "\tfor monogram in prohibited_monograms_keys:\n",
    "\t\tprohibited_frequencies[monogram] /= text_length\n",
    "\n",
    "\t\tif (prohibited_frequencies[monogram] >= limit):\n",
    "\t\t\treturn 0\n",
    "\t\t\n",
    "\treturn 1\n",
    "\n",
    "def bi_prohibited_frequencies_1(text, limit):\n",
    "\ttext_length = len(text)\n",
    "\tprohibited_frequencies = {}\n",
    "\n",
    "\tfor i in range(text_length - 1):\n",
    "\t\tbigram = text[i:i + 2]\n",
    "\n",
    "\t\tif bigram in prohibited_bigrams_keys:\n",
    "\t\t\ttry:\n",
    "\t\t\t\tprohibited_frequencies[bigram] += 1\n",
    "\t\t\texcept KeyError:\n",
    "\t\t\t\tprohibited_frequencies[bigram] = 1\n",
    "\n",
    "\tfor bigram in prohibited_bigrams_keys:\n",
    "\t\tprohibited_frequencies[bigram] /= (text_length - 1)\n",
    "\n",
    "\t\tif (prohibited_frequencies[bigram] >= limit):\n",
    "\t\t\treturn 0\n",
    "\t\t\n",
    "\treturn 1\n"
   ]
  },
  {
   "cell_type": "markdown",
   "metadata": {},
   "source": [
    "### Criteria 1.3"
   ]
  },
  {
   "cell_type": "code",
   "execution_count": 14,
   "metadata": {},
   "outputs": [],
   "source": [
    "def mono_prohibited_frequencies_2(text, limit):\n",
    "\ttext_length = len(text)\n",
    "\tprohibited_frequencies = {}\n",
    "\n",
    "\tfor monogram in prohibited_monograms_keys:\n",
    "\t\tprohibited_frequencies[monogram] = 0\n",
    "\n",
    "\tfor letter in text:\n",
    "\t\tif letter in prohibited_monograms_keys:\n",
    "\t\t\tprohibited_frequencies[letter] += 1\n",
    "\n",
    "\tfreq_sum = sum(prohibited_frequencies.values()) / text_length\n",
    "\n",
    "\tif freq_sum > limit:\n",
    "\t\treturn 0\n",
    "\t\t\n",
    "\treturn 1\n",
    "\n",
    "def bi_prohibited_frequencies_2(text, limit):\n",
    "\ttext_length = len(text)\n",
    "\tprohibited_frequencies = {}\n",
    "\n",
    "\tfor i in range(text_length - 1):\n",
    "\t\tbigram = text[i:i + 2]\n",
    "\n",
    "\t\tif bigram in prohibited_bigrams_keys:\n",
    "\t\t\ttry:\n",
    "\t\t\t\tprohibited_frequencies[bigram] += 1\n",
    "\t\t\texcept KeyError:\n",
    "\t\t\t\tprohibited_frequencies[bigram] = 1\n",
    "\n",
    "\tfreq_sum = sum(prohibited_frequencies.values()) / (text_length - 1)\n",
    "\n",
    "\tif freq_sum > limit:\n",
    "\t\treturn 0\n",
    "\t\t\n",
    "\treturn 1\n",
    "\n",
    "kek122121 = 5\n",
    "\n",
    "try:\n",
    "    kek122121 += 1\n",
    "except NameError:\n",
    "    kek122121 = 2\n"
   ]
  },
  {
   "cell_type": "markdown",
   "metadata": {},
   "source": [
    "### Criteria 3.0"
   ]
  },
  {
   "cell_type": "code",
   "execution_count": 15,
   "metadata": {},
   "outputs": [],
   "source": [
    "def get_monogram_distribution(text):\n",
    "    text_length = len(text)\n",
    "    stats = {}\n",
    "\n",
    "    for letter in alphabet_str:\n",
    "        stats[letter] = 0\n",
    "    for elem in text:\n",
    "        stats[elem] += 1\n",
    "    for key in stats.keys():\n",
    "        stats[key] /= text_length\n",
    "    return stats\n",
    "\n",
    "def get_bigram_distribution(text):\n",
    "    text_length = len(text)\n",
    "    stats = {}\n",
    "\n",
    "    for bigram in all_bigrams:\n",
    "        stats[bigram] = 0\n",
    "            \n",
    "    for i in range(len(text) - 1):\n",
    "        stats[text[i] + text[i + 1]] += 1\n",
    "\n",
    "    for key in stats.keys():\n",
    "        stats[key] /= (text_length - 1)\n",
    "\n",
    "    return stats\n",
    "\n",
    "def get_specific_entropy(frequencies, l):\n",
    "    specific_entropy = 0\n",
    "\n",
    "    for frequency in frequencies.keys():\n",
    "        if frequencies[frequency] != 0:\n",
    "            specific_entropy -= frequencies[frequency] * np.log2(frequencies[frequency]) / l\n",
    "\n",
    "    return specific_entropy\n",
    "\n",
    "def mono_criteria_3_0(text, limit):\n",
    "    text_specific_entropy = get_specific_entropy(get_monogram_distribution(text), 1)\n",
    "\n",
    "    result = abs(monogram_entropy - text_specific_entropy)\n",
    "\n",
    "    if result > limit:\n",
    "        return 0\n",
    "    else:\n",
    "        return 1\n",
    "\n",
    "def bi_criteria_3_0(text, limit):\n",
    "    text_specific_entropy = get_specific_entropy(get_bigram_distribution(text), 2)\n",
    "\n",
    "    result = abs(bigram_entropy - text_specific_entropy)\n",
    "\n",
    "    if result > limit:\n",
    "        return 0\n",
    "    else:\n",
    "        return 1\n"
   ]
  },
  {
   "cell_type": "markdown",
   "metadata": {},
   "source": [
    "### Criteria 5.0"
   ]
  },
  {
   "cell_type": "code",
   "execution_count": 16,
   "metadata": {},
   "outputs": [],
   "source": [
    "def get_most_common_grams(grams, count):\n",
    "\tentries = grams.items()\n",
    "\tsorted_entries = sorted(entries, key = lambda tuple: tuple[1], reverse=True)[:count]\n",
    "\t\n",
    "\treturn list(map(lambda item: item[0], sorted_entries))\n"
   ]
  },
  {
   "cell_type": "code",
   "execution_count": 86,
   "metadata": {},
   "outputs": [],
   "source": [
    "most_common_monograms = get_most_common_grams(alphabet_statistics, 10)\n",
    "most_common_bigrams_50 = get_most_common_grams(bigrams_statistics, 50)\n",
    "most_common_bigrams_100 = get_most_common_grams(bigrams_statistics, 100)\n",
    "most_common_bigrams_200 = get_most_common_grams(bigrams_statistics, 200)\n",
    "\n",
    "def mono_empty_boxes(text, limit, most_common_monograms):\n",
    "\tmost_common_monograms_in_text = {}\n",
    "\n",
    "\tfor monogram in most_common_monograms:\n",
    "\t\tmost_common_monograms_in_text[monogram] = 0\n",
    "\n",
    "\tfor letter in text:\n",
    "\t\tif letter in most_common_monograms:\n",
    "\t\t\tmost_common_monograms_in_text[letter] += 1\n",
    "\n",
    "\tif len(list(filter(lambda monogram: True if monogram[1] == 0 else False, most_common_monograms_in_text.items()))) > limit:\n",
    "\t\treturn 0\n",
    "\n",
    "\treturn 1\n",
    "\n",
    "def bi_empty_boxes(text, limit, most_common_bigrams):\n",
    "\tmost_common_bigrams_in_text = {}\n",
    "\n",
    "\tfor bigram in most_common_bigrams:\n",
    "\t\tmost_common_bigrams_in_text[bigram] = 0\n",
    "\n",
    "\tfor i in range(len(text) - 1):\n",
    "\t\tbigram = text[i:i + 2]\n",
    "\n",
    "\t\tif bigram in most_common_bigrams:\n",
    "\t\t\tmost_common_bigrams_in_text[bigram] += 1\n",
    "\n",
    "\tif len(list(filter(lambda bigram: True if bigram[1] == 0 else False, most_common_bigrams_in_text.items()))) > limit:\n",
    "\t\treturn 0\n",
    "\n",
    "\treturn 1\n"
   ]
  },
  {
   "cell_type": "markdown",
   "metadata": {},
   "source": [
    "### Structure criteria"
   ]
  },
  {
   "cell_type": "code",
   "execution_count": 18,
   "metadata": {},
   "outputs": [],
   "source": [
    "def structure_criteria(text, limit = 0.25):\n",
    "\ttext_len = len(text)\n",
    "\trandom_text = mono_uniform_distortion(text)\n",
    "\n",
    "\trandom_coef = text_len / len(zlib.compress(random_text.encode('utf-8')))\n",
    "\treal_coef = text_len / len(zlib.compress(text.encode('utf-8')))\n",
    "\n",
    "\tif abs(random_coef - real_coef) < limit:\n",
    "\t\treturn 0\n",
    "\n",
    "\treturn 1\n"
   ]
  },
  {
   "cell_type": "markdown",
   "metadata": {},
   "source": [
    "# Distortion texts"
   ]
  },
  {
   "cell_type": "markdown",
   "metadata": {},
   "source": [
    "## Monograms"
   ]
  },
  {
   "cell_type": "code",
   "execution_count": 19,
   "metadata": {},
   "outputs": [],
   "source": [
    "viginere_key_1 = generate_random_lgram(alphabet_length)\n",
    "viginere_key_5 = generate_random_lgram(alphabet_length, 5)\n",
    "viginere_key_10 = generate_random_lgram(alphabet_length, 10)\n",
    "\n",
    "affine_key = generate_random_lgram(alphabet_length, 2)\n",
    "\n",
    "while affine_key[0] % 2 != 1:\n",
    "\taffine_key = generate_random_lgram(alphabet_length, 2)\n",
    "\n",
    "text_10_mono = {\n",
    "\t'viginere_1': [mono_vigenere_cipher(text, viginere_key_1) for text in texts_10],\n",
    "\t'viginere_5': [mono_vigenere_cipher(text, viginere_key_5) for text in texts_10],\n",
    "\t'viginere_10': [mono_vigenere_cipher(text, viginere_key_10) for text in texts_10],\n",
    "\t'affine': [mono_affine_cipher(text, affine_key) for text in texts_10],\n",
    "\t'random': [mono_uniform_distortion(10) for i in range(len(texts_10))],\n",
    "\t'reccurent': [mono_recurrent_sequence(10) for i in range(len(texts_10))]\n",
    "}\n",
    "\n",
    "text_100_mono = {\n",
    "\t'viginere_1': [mono_vigenere_cipher(text, viginere_key_1) for text in texts_100],\n",
    "\t'viginere_5': [mono_vigenere_cipher(text, viginere_key_5) for text in texts_100],\n",
    "\t'viginere_10': [mono_vigenere_cipher(text, viginere_key_10) for text in texts_100],\n",
    "\t'affine': [mono_affine_cipher(text, affine_key) for text in texts_100],\n",
    "\t'random': [mono_uniform_distortion(100) for i in range(len(texts_100))],\n",
    "\t'reccurent': [mono_recurrent_sequence(100) for i in range(len(texts_100))]\n",
    "}\n",
    "\n",
    "text_1000_mono = {\n",
    "\t'viginere_1': [mono_vigenere_cipher(text, viginere_key_1) for text in texts_1000],\n",
    "\t'viginere_5': [mono_vigenere_cipher(text, viginere_key_5) for text in texts_10000],\n",
    "\t'viginere_10': [mono_vigenere_cipher(text, viginere_key_10) for text in texts_1000],\n",
    "\t'affine': [mono_affine_cipher(text, affine_key) for text in texts_1000],\n",
    "\t'random': [mono_uniform_distortion(1000) for i in range(len(texts_1000))],\n",
    "\t'reccurent': [mono_recurrent_sequence(1000) for i in range(len(texts_1000))]\n",
    "}\n",
    "\n",
    "text_10000_mono = {\n",
    "\t'viginere_1': [mono_vigenere_cipher(text, viginere_key_1) for text in texts_10000],\n",
    "\t'viginere_5': [mono_vigenere_cipher(text, viginere_key_5) for text in texts_10000],\n",
    "\t'viginere_10': [mono_vigenere_cipher(text, viginere_key_10) for text in texts_10000],\n",
    "\t'affine': [mono_affine_cipher(text, affine_key) for text in texts_10000],\n",
    "\t'random': [mono_uniform_distortion(10000) for i in range(len(texts_10000))],\n",
    "\t'reccurent': [mono_recurrent_sequence(10000) for i in range(len(texts_10000))]\n",
    "}\n"
   ]
  },
  {
   "cell_type": "markdown",
   "metadata": {},
   "source": [
    "## Bigrams"
   ]
  },
  {
   "cell_type": "code",
   "execution_count": 20,
   "metadata": {},
   "outputs": [],
   "source": [
    "viginere_key_1 = generate_random_lgram(all_bigrams_length)\n",
    "viginere_key_5 = generate_random_lgram(all_bigrams_length, 5)\n",
    "viginere_key_10 = generate_random_lgram(all_bigrams_length, 10)\n",
    "\n",
    "affine_key = generate_random_lgram(all_bigrams_length, 2)\n",
    "\n",
    "while affine_key[0] % 2 != 1:\n",
    "\taffine_key = generate_random_lgram(all_bigrams_length, 2)\n",
    "\n",
    "text_10_bi = {\n",
    "\t'viginere_1': [bi_vigenere_cipher(text, viginere_key_1) for text in texts_10],\n",
    "\t'viginere_5': [bi_vigenere_cipher(text, viginere_key_5) for text in texts_10],\n",
    "\t'viginere_10': [bi_vigenere_cipher(text, viginere_key_10) for text in texts_10],\n",
    "\t'affine': [bi_affine_cipher(text, affine_key) for text in texts_10],\n",
    "\t'random': [bi_uniform_distortion(10) for i in range(len(texts_10))],\n",
    "\t'reccurent': [bi_recurrent_sequence(10) for i in range(len(texts_10))]\n",
    "}\n",
    "\n",
    "text_100_bi = {\n",
    "\t'viginere_1': [bi_vigenere_cipher(text, viginere_key_1) for text in texts_100],\n",
    "\t'viginere_5': [bi_vigenere_cipher(text, viginere_key_5) for text in texts_100],\n",
    "\t'viginere_10': [bi_vigenere_cipher(text, viginere_key_10) for text in texts_100],\n",
    "\t'affine': [bi_affine_cipher(text, affine_key) for text in texts_100],\n",
    "\t'random': [bi_uniform_distortion(100) for i in range(len(texts_100))],\n",
    "\t'reccurent': [bi_recurrent_sequence(100) for i in range(len(texts_100))]\n",
    "}\n",
    "\n",
    "text_1000_bi = {\n",
    "\t'viginere_1': [bi_vigenere_cipher(text, viginere_key_1) for text in texts_1000],\n",
    "\t'viginere_5': [bi_vigenere_cipher(text, viginere_key_5) for text in texts_1000],\n",
    "\t'viginere_10': [bi_vigenere_cipher(text, viginere_key_10) for text in texts_1000],\n",
    "\t'affine': [bi_affine_cipher(text, affine_key) for text in texts_1000],\n",
    "\t'random': [bi_uniform_distortion(1000) for i in range(len(texts_1000))],\n",
    "\t'reccurent': [bi_recurrent_sequence(1000) for i in range(len(texts_1000))]\n",
    "}\n",
    "\n",
    "text_10000_bi = {\n",
    "\t'viginere_1': [bi_vigenere_cipher(text, viginere_key_1) for text in texts_10000],\n",
    "\t'viginere_5': [bi_vigenere_cipher(text, viginere_key_5) for text in texts_10000],\n",
    "\t'viginere_10': [bi_vigenere_cipher(text, viginere_key_10) for text in texts_10000],\n",
    "\t'affine': [bi_affine_cipher(text, affine_key) for text in texts_10000],\n",
    "\t'random': [bi_uniform_distortion(10000) for i in range(len(texts_10000))],\n",
    "\t'reccurent': [bi_recurrent_sequence(10000) for i in range(len(texts_10000))]\n",
    "}\n"
   ]
  },
  {
   "cell_type": "code",
   "execution_count": 21,
   "metadata": {},
   "outputs": [],
   "source": [
    "def test_criteria_for_specific_distortion(criteria, text_array):\n",
    "\tdef inner(*args):\n",
    "\t\tresults = [criteria(text, *args) for text in text_array]\n",
    "\n",
    "\t\treturn sum(results) / len(text_array)\n",
    "\n",
    "\treturn inner\n"
   ]
  },
  {
   "cell_type": "code",
   "execution_count": 22,
   "metadata": {},
   "outputs": [],
   "source": [
    "def test_criteria(criteria, text_array_dict):\n",
    "\tdef inner(*args):\n",
    "\t\tfor key in text_array_dict.keys():\n",
    "\t\t\tprint('   ', key, test_criteria_for_specific_distortion(criteria, text_array_dict[key])(*args))\n",
    "\n",
    "\treturn inner\n"
   ]
  },
  {
   "cell_type": "markdown",
   "metadata": {},
   "source": [
    "# Criteria 1.0"
   ]
  },
  {
   "cell_type": "markdown",
   "metadata": {},
   "source": [
    "## Real"
   ]
  },
  {
   "cell_type": "code",
   "execution_count": null,
   "metadata": {},
   "outputs": [],
   "source": [
    "print('L == 10')\n",
    "print('   ', test_criteria_for_specific_distortion(mono_criteria_1_1, texts_10)())\n",
    "\n",
    "print('L == 100')\n",
    "print('   ', test_criteria_for_specific_distortion(mono_criteria_1_1, texts_100)())\n",
    "\n",
    "print('L == 1000')\n",
    "print('   ', test_criteria_for_specific_distortion(mono_criteria_1_1, texts_1000)())\n",
    "\n",
    "print('L == 10000')\n",
    "print('   ', test_criteria_for_specific_distortion(mono_criteria_1_1, texts_10000)())"
   ]
  },
  {
   "cell_type": "markdown",
   "metadata": {},
   "source": [
    "## Monogram"
   ]
  },
  {
   "cell_type": "code",
   "execution_count": null,
   "metadata": {},
   "outputs": [],
   "source": [
    "print('L == 10')\n",
    "test_criteria(mono_criteria_1_1, text_10_mono)()\n",
    "\n",
    "print('L == 100')\n",
    "test_criteria(mono_criteria_1_1, text_100_mono)()\n",
    "\n",
    "print('L == 1000')\n",
    "test_criteria(mono_criteria_1_1, text_1000_mono)()\n",
    "\n",
    "print('L == 10000')\n",
    "test_criteria(mono_criteria_1_1, text_10000_mono)()"
   ]
  },
  {
   "cell_type": "markdown",
   "metadata": {},
   "source": [
    "## Bigram"
   ]
  },
  {
   "cell_type": "code",
   "execution_count": null,
   "metadata": {},
   "outputs": [],
   "source": [
    "print('L == 10')\n",
    "test_criteria(bi_criteria_1_1, text_10_bi)()\n",
    "\n",
    "print('L == 100')\n",
    "test_criteria(bi_criteria_1_1, text_100_bi)()\n",
    "\n",
    "print('L == 1000')\n",
    "test_criteria(bi_criteria_1_1, text_1000_bi)()\n",
    "\n",
    "print('L == 10000')\n",
    "test_criteria(bi_criteria_1_1, text_10000_bi)()"
   ]
  },
  {
   "cell_type": "markdown",
   "metadata": {},
   "source": [
    "# Criteria 1.1"
   ]
  },
  {
   "cell_type": "markdown",
   "metadata": {},
   "source": [
    "## Real monograms"
   ]
  },
  {
   "cell_type": "code",
   "execution_count": null,
   "metadata": {},
   "outputs": [],
   "source": [
    "print('L == 10')\n",
    "print('   ', test_criteria_for_specific_distortion(mono_criteria_1_1, texts_10)(1))\n",
    "\n",
    "print('L == 100')\n",
    "print('   ', test_criteria_for_specific_distortion(mono_criteria_1_1, texts_100)(3))\n",
    "\n",
    "print('L == 1000')\n",
    "print('   ', test_criteria_for_specific_distortion(mono_criteria_1_1, texts_1000)(4))\n",
    "\n",
    "print('L == 10000')\n",
    "print('   ', test_criteria_for_specific_distortion(mono_criteria_1_1, texts_10000)(4))"
   ]
  },
  {
   "cell_type": "markdown",
   "metadata": {},
   "source": [
    "## Distorted monogram"
   ]
  },
  {
   "cell_type": "code",
   "execution_count": null,
   "metadata": {},
   "outputs": [],
   "source": [
    "print('L == 10')\n",
    "test_criteria(mono_criteria_1_1, text_10_mono)(1)\n",
    "\n",
    "print('L == 100')\n",
    "test_criteria(mono_criteria_1_1, text_100_mono)(3)\n",
    "\n",
    "print('L == 1000')\n",
    "test_criteria(mono_criteria_1_1, text_1000_mono)(4)\n",
    "\n",
    "print('L == 10000')\n",
    "test_criteria(mono_criteria_1_1, text_10000_mono)(4)"
   ]
  },
  {
   "cell_type": "markdown",
   "metadata": {},
   "source": [
    "## Real bigram"
   ]
  },
  {
   "cell_type": "code",
   "execution_count": null,
   "metadata": {},
   "outputs": [],
   "source": [
    "print('L == 10')\n",
    "print('   ', test_criteria_for_specific_distortion(bi_criteria_1_1, texts_10)(1))\n",
    "\n",
    "print('L == 100')\n",
    "print('   ', test_criteria_for_specific_distortion(bi_criteria_1_1, texts_100)(10))\n",
    "\n",
    "print('L == 1000')\n",
    "print('   ', test_criteria_for_specific_distortion(bi_criteria_1_1, texts_1000)(50))\n",
    "\n",
    "print('L == 10000')\n",
    "print('   ', test_criteria_for_specific_distortion(bi_criteria_1_1, texts_10000)(100))"
   ]
  },
  {
   "cell_type": "markdown",
   "metadata": {},
   "source": [
    "## Distorted bigram"
   ]
  },
  {
   "cell_type": "code",
   "execution_count": null,
   "metadata": {},
   "outputs": [],
   "source": [
    "print('L == 10')\n",
    "test_criteria(bi_criteria_1_1, text_10_bi)(1)\n",
    "\n",
    "print('L == 100')\n",
    "test_criteria(bi_criteria_1_1, text_100_bi)(10)\n",
    "\n",
    "print('L == 1000')\n",
    "test_criteria(bi_criteria_1_1, text_1000_bi)(50)\n",
    "\n",
    "print('L == 10000')\n",
    "test_criteria(bi_criteria_1_1, text_10000_bi)(100)"
   ]
  },
  {
   "cell_type": "markdown",
   "metadata": {},
   "source": [
    "# Criteria 1.2"
   ]
  },
  {
   "cell_type": "markdown",
   "metadata": {},
   "source": [
    "## Real monogram"
   ]
  },
  {
   "cell_type": "code",
   "execution_count": null,
   "metadata": {},
   "outputs": [],
   "source": [
    "print('L == 10')\n",
    "print('   ', test_criteria_for_specific_distortion(mono_prohibited_frequencies_1, texts_10)(0.1))\n",
    "\n",
    "print('L == 100')\n",
    "print('   ', test_criteria_for_specific_distortion(mono_prohibited_frequencies_1, texts_100)(0.025))\n",
    "\n",
    "print('L == 1000')\n",
    "print('   ', test_criteria_for_specific_distortion(mono_prohibited_frequencies_1, texts_1000)(0.015))\n",
    "\n",
    "print('L == 10000')\n",
    "print('   ', test_criteria_for_specific_distortion(mono_prohibited_frequencies_1, texts_10000)(0.008))"
   ]
  },
  {
   "cell_type": "markdown",
   "metadata": {},
   "source": [
    "## Distorted monogram"
   ]
  },
  {
   "cell_type": "code",
   "execution_count": null,
   "metadata": {},
   "outputs": [],
   "source": [
    "print('L == 10')\n",
    "test_criteria(mono_prohibited_frequencies_1, text_10_mono)(0.1)\n",
    "\n",
    "print('L == 100')\n",
    "test_criteria(mono_prohibited_frequencies_1, text_100_mono)(0.025)\n",
    "\n",
    "print('L == 1000')\n",
    "test_criteria(mono_prohibited_frequencies_1, text_1000_mono)(0.015)\n",
    "\n",
    "print('L == 10000')\n",
    "test_criteria(mono_prohibited_frequencies_1, text_10000_mono)(0.008)"
   ]
  },
  {
   "cell_type": "markdown",
   "metadata": {},
   "source": [
    "## Real bigram"
   ]
  },
  {
   "cell_type": "code",
   "execution_count": null,
   "metadata": {},
   "outputs": [],
   "source": [
    "print('L == 10')\n",
    "print('   ', test_criteria_for_specific_distortion(bi_prohibited_frequencies_1, texts_10)(0.1))\n",
    "\n",
    "print('L == 100')\n",
    "print('   ', test_criteria_for_specific_distortion(bi_prohibited_frequencies_1, texts_100)(0.0125))\n",
    "\n",
    "print('L == 1000')\n",
    "print('   ', test_criteria_for_specific_distortion(bi_prohibited_frequencies_1, texts_1000)(0.0035))\n",
    "\n",
    "print('L == 10000')\n",
    "print('   ', test_criteria_for_specific_distortion(bi_prohibited_frequencies_1, texts_10000)(0.001))"
   ]
  },
  {
   "cell_type": "markdown",
   "metadata": {},
   "source": [
    "## Distorted bigram"
   ]
  },
  {
   "cell_type": "code",
   "execution_count": null,
   "metadata": {},
   "outputs": [],
   "source": [
    "print('L == 10')\n",
    "test_criteria(bi_prohibited_frequencies_1, text_10_bi)(0.1)\n",
    "\n",
    "print('L == 100')\n",
    "test_criteria(bi_prohibited_frequencies_1, text_100_bi)(0.0125)\n",
    "\n",
    "print('L == 1000')\n",
    "test_criteria(bi_prohibited_frequencies_1, text_1000_bi)(0.0035)\n",
    "\n",
    "print('L == 10000')\n",
    "test_criteria(bi_prohibited_frequencies_1, text_10000_bi)(0.001)"
   ]
  },
  {
   "cell_type": "markdown",
   "metadata": {},
   "source": [
    "# Criteria 1.3"
   ]
  },
  {
   "cell_type": "markdown",
   "metadata": {},
   "source": [
    "## Real monogram"
   ]
  },
  {
   "cell_type": "code",
   "execution_count": null,
   "metadata": {},
   "outputs": [],
   "source": [
    "print('L == 10')\n",
    "print('   ', test_criteria_for_specific_distortion(mono_prohibited_frequencies_2, texts_10)(0.1))\n",
    "\n",
    "print('L == 100')\n",
    "print('   ', test_criteria_for_specific_distortion(mono_prohibited_frequencies_2, texts_100)(0.05))\n",
    "\n",
    "print('L == 1000')\n",
    "print('   ', test_criteria_for_specific_distortion(mono_prohibited_frequencies_2, texts_1000)(0.025))\n",
    "\n",
    "print('L == 10000')\n",
    "print('   ', test_criteria_for_specific_distortion(mono_prohibited_frequencies_2, texts_10000)(0.02))"
   ]
  },
  {
   "cell_type": "markdown",
   "metadata": {},
   "source": [
    "## Distorted monogram"
   ]
  },
  {
   "cell_type": "code",
   "execution_count": null,
   "metadata": {},
   "outputs": [],
   "source": [
    "print('L == 10')\n",
    "test_criteria(mono_prohibited_frequencies_2, text_10_mono)(0.1)\n",
    "\n",
    "print('L == 100')\n",
    "test_criteria(mono_prohibited_frequencies_2, text_100_mono)(0.05)\n",
    "\n",
    "print('L == 1000')\n",
    "test_criteria(mono_prohibited_frequencies_2, text_1000_mono)(0.025)\n",
    "\n",
    "print('L == 10000')\n",
    "test_criteria(mono_prohibited_frequencies_2, text_10000_mono)(0.02)"
   ]
  },
  {
   "cell_type": "markdown",
   "metadata": {},
   "source": [
    "## Real Bigram"
   ]
  },
  {
   "cell_type": "code",
   "execution_count": 278,
   "metadata": {},
   "outputs": [
    {
     "name": "stdout",
     "output_type": "stream",
     "text": [
      "L == 10\n",
      "    0.9828\n",
      "L == 100\n",
      "    0.9977\n",
      "L == 1000\n"
     ]
    },
    {
     "ename": "KeyboardInterrupt",
     "evalue": "",
     "output_type": "error",
     "traceback": [
      "\u001b[1;31m---------------------------------------------------------------------------\u001b[0m",
      "\u001b[1;31mKeyboardInterrupt\u001b[0m                         Traceback (most recent call last)",
      "Cell \u001b[1;32mIn [278], line 8\u001b[0m\n\u001b[0;32m      5\u001b[0m \u001b[39mprint\u001b[39m(\u001b[39m'\u001b[39m\u001b[39m   \u001b[39m\u001b[39m'\u001b[39m, test_criteria_for_specific_distortion(bi_prohibited_frequencies_2, texts_100)(\u001b[39m0.025\u001b[39m))\n\u001b[0;32m      7\u001b[0m \u001b[39mprint\u001b[39m(\u001b[39m'\u001b[39m\u001b[39mL == 1000\u001b[39m\u001b[39m'\u001b[39m)\n\u001b[1;32m----> 8\u001b[0m \u001b[39mprint\u001b[39m(\u001b[39m'\u001b[39m\u001b[39m   \u001b[39m\u001b[39m'\u001b[39m, test_criteria_for_specific_distortion(bi_prohibited_frequencies_2, texts_1000)(\u001b[39m0.015\u001b[39;49m))\n\u001b[0;32m     10\u001b[0m \u001b[39mprint\u001b[39m(\u001b[39m'\u001b[39m\u001b[39mL == 10000\u001b[39m\u001b[39m'\u001b[39m)\n\u001b[0;32m     11\u001b[0m \u001b[39mprint\u001b[39m(\u001b[39m'\u001b[39m\u001b[39m   \u001b[39m\u001b[39m'\u001b[39m, test_criteria_for_specific_distortion(bi_prohibited_frequencies_2, texts_10000)(\u001b[39m0.008\u001b[39m))\n",
      "Cell \u001b[1;32mIn [164], line 3\u001b[0m, in \u001b[0;36mtest_criteria_for_specific_distortion.<locals>.inner\u001b[1;34m(*args)\u001b[0m\n\u001b[0;32m      2\u001b[0m \u001b[39mdef\u001b[39;00m \u001b[39minner\u001b[39m(\u001b[39m*\u001b[39margs):\n\u001b[1;32m----> 3\u001b[0m \tresults \u001b[39m=\u001b[39m [criteria(text, \u001b[39m*\u001b[39margs) \u001b[39mfor\u001b[39;00m text \u001b[39min\u001b[39;00m text_array]\n\u001b[0;32m      5\u001b[0m \t\u001b[39mreturn\u001b[39;00m \u001b[39msum\u001b[39m(results) \u001b[39m/\u001b[39m \u001b[39mlen\u001b[39m(text_array)\n",
      "Cell \u001b[1;32mIn [164], line 3\u001b[0m, in \u001b[0;36m<listcomp>\u001b[1;34m(.0)\u001b[0m\n\u001b[0;32m      2\u001b[0m \u001b[39mdef\u001b[39;00m \u001b[39minner\u001b[39m(\u001b[39m*\u001b[39margs):\n\u001b[1;32m----> 3\u001b[0m \tresults \u001b[39m=\u001b[39m [criteria(text, \u001b[39m*\u001b[39;49margs) \u001b[39mfor\u001b[39;00m text \u001b[39min\u001b[39;00m text_array]\n\u001b[0;32m      5\u001b[0m \t\u001b[39mreturn\u001b[39;00m \u001b[39msum\u001b[39m(results) \u001b[39m/\u001b[39m \u001b[39mlen\u001b[39m(text_array)\n",
      "Cell \u001b[1;32mIn [274], line 26\u001b[0m, in \u001b[0;36mbi_prohibited_frequencies_2\u001b[1;34m(text, limit)\u001b[0m\n\u001b[0;32m     23\u001b[0m \u001b[39mfor\u001b[39;00m i \u001b[39min\u001b[39;00m \u001b[39mrange\u001b[39m(text_length \u001b[39m-\u001b[39m \u001b[39m1\u001b[39m):\n\u001b[0;32m     24\u001b[0m \tbigram \u001b[39m=\u001b[39m text[i:i \u001b[39m+\u001b[39m \u001b[39m2\u001b[39m]\n\u001b[1;32m---> 26\u001b[0m \t\u001b[39mif\u001b[39;00m bigram \u001b[39min\u001b[39;00m prohibited_bigrams_keys:\n\u001b[0;32m     27\u001b[0m \t\t\u001b[39mtry\u001b[39;00m:\n\u001b[0;32m     28\u001b[0m \t\t\tprohibited_frequencies[bigram] \u001b[39m+\u001b[39m\u001b[39m=\u001b[39m \u001b[39m1\u001b[39m\n",
      "\u001b[1;31mKeyboardInterrupt\u001b[0m: "
     ]
    }
   ],
   "source": [
    "print('L == 10')\n",
    "print('   ', test_criteria_for_specific_distortion(bi_prohibited_frequencies_2, texts_10)(0.075))\n",
    "\n",
    "print('L == 100')\n",
    "print('   ', test_criteria_for_specific_distortion(bi_prohibited_frequencies_2, texts_100)(0.025))\n",
    "\n",
    "print('L == 1000')\n",
    "print('   ', test_criteria_for_specific_distortion(bi_prohibited_frequencies_2, texts_1000)(0.015))\n",
    "\n",
    "print('L == 10000')\n",
    "print('   ', test_criteria_for_specific_distortion(bi_prohibited_frequencies_2, texts_10000)(0.008))"
   ]
  },
  {
   "cell_type": "markdown",
   "metadata": {},
   "source": [
    "## Distorted Bigram"
   ]
  },
  {
   "cell_type": "code",
   "execution_count": 279,
   "metadata": {},
   "outputs": [
    {
     "name": "stdout",
     "output_type": "stream",
     "text": [
      "L == 10\n",
      "    viginere_1 0.079\n",
      "    viginere_5 0.081\n",
      "    viginere_10 0.0825\n",
      "    affine 0.0663\n",
      "    random 0.0384\n",
      "    reccurent 0.0953\n",
      "L == 100\n",
      "    viginere_1 0.0\n"
     ]
    },
    {
     "ename": "KeyboardInterrupt",
     "evalue": "",
     "output_type": "error",
     "traceback": [
      "\u001b[1;31m---------------------------------------------------------------------------\u001b[0m",
      "\u001b[1;31mKeyboardInterrupt\u001b[0m                         Traceback (most recent call last)",
      "Cell \u001b[1;32mIn [279], line 5\u001b[0m\n\u001b[0;32m      2\u001b[0m test_criteria(bi_prohibited_frequencies_2, text_10_bi)(\u001b[39m0.075\u001b[39m)\n\u001b[0;32m      4\u001b[0m \u001b[39mprint\u001b[39m(\u001b[39m'\u001b[39m\u001b[39mL == 100\u001b[39m\u001b[39m'\u001b[39m)\n\u001b[1;32m----> 5\u001b[0m test_criteria(bi_prohibited_frequencies_2, text_100_bi)(\u001b[39m0.025\u001b[39;49m)\n\u001b[0;32m      7\u001b[0m \u001b[39mprint\u001b[39m(\u001b[39m'\u001b[39m\u001b[39mL == 1000\u001b[39m\u001b[39m'\u001b[39m)\n\u001b[0;32m      8\u001b[0m test_criteria(bi_prohibited_frequencies_2, text_1000_bi)(\u001b[39m0.015\u001b[39m)\n",
      "Cell \u001b[1;32mIn [165], line 4\u001b[0m, in \u001b[0;36mtest_criteria.<locals>.inner\u001b[1;34m(*args)\u001b[0m\n\u001b[0;32m      2\u001b[0m \u001b[39mdef\u001b[39;00m \u001b[39minner\u001b[39m(\u001b[39m*\u001b[39margs):\n\u001b[0;32m      3\u001b[0m \t\u001b[39mfor\u001b[39;00m key \u001b[39min\u001b[39;00m text_array_dict\u001b[39m.\u001b[39mkeys():\n\u001b[1;32m----> 4\u001b[0m \t\t\u001b[39mprint\u001b[39m(\u001b[39m'\u001b[39m\u001b[39m   \u001b[39m\u001b[39m'\u001b[39m, key, test_criteria_for_specific_distortion(criteria, text_array_dict[key])(\u001b[39m*\u001b[39;49margs))\n",
      "Cell \u001b[1;32mIn [164], line 3\u001b[0m, in \u001b[0;36mtest_criteria_for_specific_distortion.<locals>.inner\u001b[1;34m(*args)\u001b[0m\n\u001b[0;32m      2\u001b[0m \u001b[39mdef\u001b[39;00m \u001b[39minner\u001b[39m(\u001b[39m*\u001b[39margs):\n\u001b[1;32m----> 3\u001b[0m \tresults \u001b[39m=\u001b[39m [criteria(text, \u001b[39m*\u001b[39margs) \u001b[39mfor\u001b[39;00m text \u001b[39min\u001b[39;00m text_array]\n\u001b[0;32m      5\u001b[0m \t\u001b[39mreturn\u001b[39;00m \u001b[39msum\u001b[39m(results) \u001b[39m/\u001b[39m \u001b[39mlen\u001b[39m(text_array)\n",
      "Cell \u001b[1;32mIn [164], line 3\u001b[0m, in \u001b[0;36m<listcomp>\u001b[1;34m(.0)\u001b[0m\n\u001b[0;32m      2\u001b[0m \u001b[39mdef\u001b[39;00m \u001b[39minner\u001b[39m(\u001b[39m*\u001b[39margs):\n\u001b[1;32m----> 3\u001b[0m \tresults \u001b[39m=\u001b[39m [criteria(text, \u001b[39m*\u001b[39;49margs) \u001b[39mfor\u001b[39;00m text \u001b[39min\u001b[39;00m text_array]\n\u001b[0;32m      5\u001b[0m \t\u001b[39mreturn\u001b[39;00m \u001b[39msum\u001b[39m(results) \u001b[39m/\u001b[39m \u001b[39mlen\u001b[39m(text_array)\n",
      "Cell \u001b[1;32mIn [274], line 30\u001b[0m, in \u001b[0;36mbi_prohibited_frequencies_2\u001b[1;34m(text, limit)\u001b[0m\n\u001b[0;32m     28\u001b[0m \t\t\tprohibited_frequencies[bigram] \u001b[39m+\u001b[39m\u001b[39m=\u001b[39m \u001b[39m1\u001b[39m\n\u001b[0;32m     29\u001b[0m \t\t\u001b[39mexcept\u001b[39;00m \u001b[39mKeyError\u001b[39;00m:\n\u001b[1;32m---> 30\u001b[0m \t\t\tprohibited_frequencies[bigram] \u001b[39m=\u001b[39m \u001b[39m1\u001b[39m\n\u001b[0;32m     32\u001b[0m freq_sum \u001b[39m=\u001b[39m \u001b[39msum\u001b[39m(prohibited_frequencies\u001b[39m.\u001b[39mvalues()) \u001b[39m/\u001b[39m (text_length \u001b[39m-\u001b[39m \u001b[39m1\u001b[39m)\n\u001b[0;32m     34\u001b[0m \u001b[39mif\u001b[39;00m freq_sum \u001b[39m>\u001b[39m limit:\n",
      "\u001b[1;31mKeyboardInterrupt\u001b[0m: "
     ]
    }
   ],
   "source": [
    "print('L == 10')\n",
    "test_criteria(bi_prohibited_frequencies_2, text_10_bi)(0.075)\n",
    "\n",
    "print('L == 100')\n",
    "test_criteria(bi_prohibited_frequencies_2, text_100_bi)(0.025)\n",
    "\n",
    "print('L == 1000')\n",
    "test_criteria(bi_prohibited_frequencies_2, text_1000_bi)(0.015)\n",
    "\n",
    "print('L == 10000')\n",
    "test_criteria(bi_prohibited_frequencies_2, text_10000_bi)(0.008)"
   ]
  },
  {
   "cell_type": "markdown",
   "metadata": {},
   "source": [
    "# Criteria 3.0"
   ]
  },
  {
   "cell_type": "markdown",
   "metadata": {},
   "source": [
    "## Real monogram"
   ]
  },
  {
   "cell_type": "code",
   "execution_count": 52,
   "metadata": {},
   "outputs": [
    {
     "name": "stdout",
     "output_type": "stream",
     "text": [
      "L == 1000\n",
      "    0.9363\n",
      "L == 10000\n",
      "    0.961\n"
     ]
    }
   ],
   "source": [
    "# print('L == 10')\n",
    "# print('   ', test_criteria_for_specific_distortion(mono_criteria_3_0, texts_10)(1.95))\n",
    "\n",
    "# print('L == 100')\n",
    "# print('   ', test_criteria_for_specific_distortion(mono_criteria_3_0, texts_100)(0.1))\n",
    "\n",
    "print('L == 1000')\n",
    "print('   ', test_criteria_for_specific_distortion(mono_criteria_3_0, texts_1000)(0.08))\n",
    "\n",
    "print('L == 10000')\n",
    "print('   ', test_criteria_for_specific_distortion(mono_criteria_3_0, texts_10000)(0.025))"
   ]
  },
  {
   "cell_type": "markdown",
   "metadata": {},
   "source": [
    "## Distorted monogram"
   ]
  },
  {
   "cell_type": "code",
   "execution_count": 55,
   "metadata": {},
   "outputs": [
    {
     "name": "stdout",
     "output_type": "stream",
     "text": [
      "L == 1000\n",
      "    viginere_1 0.9363\n",
      "    viginere_5 0.0\n",
      "    viginere_10 0.0\n",
      "    affine 0.9363\n",
      "    random 0.0\n",
      "    reccurent 0.0\n",
      "L == 10000\n",
      "    viginere_1 0.961\n",
      "    viginere_5 0.0\n",
      "    viginere_10 0.0\n",
      "    affine 0.961\n",
      "    random 0.0\n",
      "    reccurent 0.0\n"
     ]
    }
   ],
   "source": [
    "# print('L == 10')\n",
    "# test_criteria(mono_criteria_3_0, text_10_mono)(1.95)\n",
    "\n",
    "# print('L == 100')\n",
    "# test_criteria(mono_criteria_3_0, text_100_mono)(0.1)\n",
    "\n",
    "print('L == 1000')\n",
    "test_criteria(mono_criteria_3_0, text_1000_mono)(0.08)\n",
    "\n",
    "print('L == 10000')\n",
    "test_criteria(mono_criteria_3_0, text_10000_mono)(0.025)"
   ]
  },
  {
   "cell_type": "markdown",
   "metadata": {},
   "source": [
    "## Real bigram"
   ]
  },
  {
   "cell_type": "code",
   "execution_count": null,
   "metadata": {},
   "outputs": [],
   "source": [
    "print('L == 10')\n",
    "print('   ', test_criteria_for_specific_distortion(bi_criteria_3_0, texts_10)(0.1))\n",
    "\n",
    "print('L == 100')\n",
    "print('   ', test_criteria_for_specific_distortion(bi_criteria_3_0, texts_100)(0.05))\n",
    "\n",
    "print('L == 1000')\n",
    "print('   ', test_criteria_for_specific_distortion(bi_criteria_3_0, texts_1000)(0.025))\n",
    "\n",
    "print('L == 10000')\n",
    "print('   ', test_criteria_for_specific_distortion(bi_criteria_3_0, texts_10000)(0.02))"
   ]
  },
  {
   "cell_type": "markdown",
   "metadata": {},
   "source": [
    "## Distorted bigram"
   ]
  },
  {
   "cell_type": "code",
   "execution_count": null,
   "metadata": {},
   "outputs": [],
   "source": [
    "print('L == 10')\n",
    "test_criteria(bi_criteria_3_0, text_10_bi)(1)\n",
    "\n",
    "print('L == 100')\n",
    "test_criteria(bi_criteria_3_0, text_100_bi)(10)\n",
    "\n",
    "print('L == 1000')\n",
    "test_criteria(bi_criteria_3_0, text_1000_bi)(50)\n",
    "\n",
    "print('L == 10000')\n",
    "test_criteria(bi_criteria_1_1, text_10000_bi)(100)"
   ]
  },
  {
   "cell_type": "markdown",
   "metadata": {},
   "source": [
    "# Criteria 5.1"
   ]
  },
  {
   "cell_type": "markdown",
   "metadata": {},
   "source": [
    "## Real monogram"
   ]
  },
  {
   "cell_type": "code",
   "execution_count": 81,
   "metadata": {},
   "outputs": [
    {
     "name": "stdout",
     "output_type": "stream",
     "text": [
      "L == 10\n",
      "    0.9721\n",
      "L == 100\n",
      "    0.9612\n",
      "L == 1000\n",
      "    1.0\n",
      "L == 10000\n",
      "    1.0\n"
     ]
    }
   ],
   "source": [
    "print('L == 10')\n",
    "print('   ', test_criteria_for_specific_distortion(mono_empty_boxes, texts_10)(7, most_common_monograms))\n",
    "\n",
    "print('L == 100')\n",
    "print('   ', test_criteria_for_specific_distortion(mono_empty_boxes, texts_100)(0, most_common_monograms))\n",
    "\n",
    "print('L == 1000')\n",
    "print('   ', test_criteria_for_specific_distortion(mono_empty_boxes, texts_1000)(0, most_common_monograms))\n",
    "\n",
    "print('L == 10000')\n",
    "print('   ', test_criteria_for_specific_distortion(mono_empty_boxes, texts_10000)(0, most_common_monograms))"
   ]
  },
  {
   "cell_type": "markdown",
   "metadata": {},
   "source": [
    "## Distorted Monogram"
   ]
  },
  {
   "cell_type": "code",
   "execution_count": 80,
   "metadata": {},
   "outputs": [
    {
     "name": "stdout",
     "output_type": "stream",
     "text": [
      "L == 10\n",
      "    viginere_1 0.4534\n",
      "    viginere_5 0.6938\n",
      "    viginere_10 0.5053\n",
      "    affine 0.4709\n",
      "    random 0.5675\n",
      "    reccurent 0.5004\n",
      "L == 100\n",
      "    viginere_1 0.0054\n",
      "    viginere_5 0.7038\n",
      "    viginere_10 0.5192\n",
      "    affine 0.1477\n",
      "    random 0.6482\n",
      "    reccurent 0.0\n",
      "L == 1000\n",
      "    viginere_1 0.5087\n",
      "    viginere_5 1.0\n",
      "    viginere_10 1.0\n",
      "    affine 0.9988\n",
      "    random 1.0\n",
      "    reccurent 0.0\n",
      "L == 10000\n",
      "    viginere_1 0.997\n",
      "    viginere_5 1.0\n",
      "    viginere_10 1.0\n",
      "    affine 1.0\n",
      "    random 1.0\n",
      "    reccurent 0.0\n"
     ]
    }
   ],
   "source": [
    "print('L == 10')\n",
    "test_criteria(mono_empty_boxes, text_10_mono)(7, most_common_monograms)\n",
    "\n",
    "print('L == 100')\n",
    "test_criteria(mono_empty_boxes, text_100_mono)(0, most_common_monograms)\n",
    "\n",
    "print('L == 1000')\n",
    "test_criteria(mono_empty_boxes, text_1000_mono)(0, most_common_monograms)\n",
    "\n",
    "print('L == 10000')\n",
    "test_criteria(mono_empty_boxes, text_10000_mono)(0, most_common_monograms)"
   ]
  },
  {
   "cell_type": "markdown",
   "metadata": {},
   "source": [
    "## Real bigram"
   ]
  },
  {
   "cell_type": "code",
   "execution_count": 92,
   "metadata": {},
   "outputs": [
    {
     "name": "stdout",
     "output_type": "stream",
     "text": [
      "L == 100\n",
      "    0.9443\n",
      "L == 1000\n",
      "    1.0\n",
      "L == 10000\n",
      "    0.991\n"
     ]
    }
   ],
   "source": [
    "# print('L == 10')\n",
    "# print('   ', test_criteria_for_specific_distortion(bi_empty_boxes, texts_10)(15, most_common_bigrams_100))\n",
    "\n",
    "print('L == 100')\n",
    "print('   ', test_criteria_for_specific_distortion(bi_empty_boxes, texts_100)(30, most_common_bigrams_50))\n",
    "\n",
    "print('L == 1000')\n",
    "print('   ', test_criteria_for_specific_distortion(bi_empty_boxes, texts_1000)(10, most_common_bigrams_100))\n",
    "\n",
    "print('L == 10000')\n",
    "print('   ', test_criteria_for_specific_distortion(bi_empty_boxes, texts_10000)(0, most_common_bigrams_200))\n"
   ]
  },
  {
   "cell_type": "markdown",
   "metadata": {},
   "source": [
    "## Distorted Bigram"
   ]
  },
  {
   "cell_type": "code",
   "execution_count": 94,
   "metadata": {},
   "outputs": [
    {
     "name": "stdout",
     "output_type": "stream",
     "text": [
      "L == 100\n",
      "    viginere_1 0.0\n",
      "    viginere_5 0.0\n",
      "    viginere_10 0.0\n",
      "    affine 0.0\n",
      "    random 0.0002\n",
      "    reccurent 0.0\n",
      "L == 1000\n",
      "    viginere_1 0.0\n",
      "    viginere_5 0.0\n",
      "    viginere_10 0.0\n",
      "    affine 0.0\n",
      "    random 0.1532\n",
      "    reccurent 0.0\n",
      "L == 10000\n",
      "    viginere_1 0.0\n",
      "    viginere_5 0.2\n",
      "    viginere_10 0.525\n",
      "    affine 0.0\n",
      "    random 1.0\n",
      "    reccurent 0.0\n"
     ]
    }
   ],
   "source": [
    "# print('L == 10')\n",
    "# test_criteria(bi_empty_boxes, text_10_bi)(1)\n",
    "\n",
    "print('L == 100')\n",
    "test_criteria(bi_empty_boxes, text_100_bi)(30, most_common_bigrams_50)\n",
    "\n",
    "print('L == 1000')\n",
    "test_criteria(bi_empty_boxes, text_1000_bi)(10, most_common_bigrams_100)\n",
    "\n",
    "print('L == 10000')\n",
    "test_criteria(bi_empty_boxes, text_10000_bi)(0, most_common_bigrams_200)"
   ]
  },
  {
   "cell_type": "markdown",
   "metadata": {},
   "source": [
    "# Criteria ?.?"
   ]
  },
  {
   "cell_type": "code",
   "execution_count": null,
   "metadata": {},
   "outputs": [],
   "source": [
    "print('L == 10')\n",
    "test_criteria(mono_prohibited_frequencies_1, text_10_mono)(3)\n",
    "\n",
    "print('L == 100')\n",
    "test_criteria(mono_prohibited_frequencies_1, text_100_mono)(2)\n",
    "\n",
    "print('L == 1000')\n",
    "test_criteria(mono_prohibited_frequencies_1, text_1000_mono)(1)\n",
    "\n",
    "print('L == 10000')\n",
    "test_criteria(mono_prohibited_frequencies_1, text_10000_mono)(1)"
   ]
  },
  {
   "cell_type": "code",
   "execution_count": null,
   "metadata": {},
   "outputs": [],
   "source": [
    "print('L == 10')\n",
    "test_criteria(bi_criteria_1_1, text_10_bi)(1)\n",
    "\n",
    "print('L == 100')\n",
    "test_criteria(bi_criteria_1_1, text_100_bi)(10)\n",
    "\n",
    "print('L == 1000')\n",
    "test_criteria(bi_criteria_1_1, text_1000_bi)(50)\n",
    "\n",
    "print('L == 10000')\n",
    "test_criteria(bi_criteria_1_1, text_10000_bi)(100)"
   ]
  }
 ],
 "metadata": {
  "kernelspec": {
   "display_name": "Python 3.10.7 64-bit",
   "language": "python",
   "name": "python3"
  },
  "language_info": {
   "codemirror_mode": {
    "name": "ipython",
    "version": 3
   },
   "file_extension": ".py",
   "mimetype": "text/x-python",
   "name": "python",
   "nbconvert_exporter": "python",
   "pygments_lexer": "ipython3",
   "version": "3.10.7"
  },
  "orig_nbformat": 4,
  "vscode": {
   "interpreter": {
    "hash": "369f2c481f4da34e4445cda3fffd2e751bd1c4d706f27375911949ba6bb62e1c"
   }
  }
 },
 "nbformat": 4,
 "nbformat_minor": 2
}
